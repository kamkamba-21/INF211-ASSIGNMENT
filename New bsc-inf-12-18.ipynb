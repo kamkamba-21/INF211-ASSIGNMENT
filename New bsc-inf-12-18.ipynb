{
 "cells": [
  {
   "cell_type": "code",
   "execution_count": 8,
   "id": "342efd76",
   "metadata": {},
   "outputs": [
    {
     "name": "stdout",
     "output_type": "stream",
     "text": [
      "Requirement already satisfied: pip in c:\\users\\fatsani\\anaconda3\\envs\\tensorflow\\lib\\site-packages (21.2.2)Note: you may need to restart the kernel to use updated packages.\n",
      "\n",
      "Collecting pip\n",
      "  Downloading pip-22.0.3-py3-none-any.whl (2.1 MB)\n",
      "Installing collected packages: pip\n",
      "  Attempting uninstall: pip\n",
      "    Found existing installation: pip 21.2.2\n",
      "    Uninstalling pip-21.2.2:\n",
      "      Successfully uninstalled pip-21.2.2\n",
      "Successfully installed pip-22.0.3\n"
     ]
    }
   ],
   "source": [
    "pip install --upgrade pip"
   ]
  },
  {
   "cell_type": "code",
   "execution_count": 10,
   "id": "ecdc24d0",
   "metadata": {},
   "outputs": [
    {
     "name": "stdout",
     "output_type": "stream",
     "text": [
      "Collecting tensorflowNote: you may need to restart the kernel to use updated packages.\n",
      "\n",
      "  Using cached tensorflow-2.8.0-cp38-cp38-win_amd64.whl (438.0 MB)\n",
      "Collecting numpy>=1.20\n",
      "  Downloading numpy-1.22.2-cp38-cp38-win_amd64.whl (14.7 MB)\n",
      "     --------------------------------------- 14.7/14.7 MB 14.0 kB/s eta 0:00:00\n",
      "Collecting keras<2.9,>=2.8.0rc0\n",
      "  Using cached keras-2.8.0-py2.py3-none-any.whl (1.4 MB)\n",
      "Requirement already satisfied: setuptools in c:\\users\\fatsani\\anaconda3\\envs\\tensorflow\\lib\\site-packages (from tensorflow) (58.0.4)\n",
      "Collecting keras-preprocessing>=1.1.1\n",
      "  Using cached Keras_Preprocessing-1.1.2-py2.py3-none-any.whl (42 kB)\n",
      "Collecting termcolor>=1.1.0\n",
      "  Using cached termcolor-1.1.0-py3-none-any.whl\n",
      "Collecting opt-einsum>=2.3.2\n",
      "  Using cached opt_einsum-3.3.0-py3-none-any.whl (65 kB)\n",
      "Collecting h5py>=2.9.0\n",
      "  Using cached h5py-3.6.0-cp38-cp38-win_amd64.whl (2.8 MB)\n",
      "Collecting grpcio<2.0,>=1.24.3\n",
      "  Using cached grpcio-1.44.0-cp38-cp38-win_amd64.whl (3.4 MB)\n",
      "Collecting astunparse>=1.6.0\n",
      "  Using cached astunparse-1.6.3-py2.py3-none-any.whl (12 kB)\n",
      "Collecting absl-py>=0.4.0\n",
      "  Using cached absl_py-1.0.0-py3-none-any.whl (126 kB)\n",
      "Collecting libclang>=9.0.1\n",
      "  Using cached libclang-13.0.0-py2.py3-none-win_amd64.whl (13.9 MB)\n",
      "Requirement already satisfied: six>=1.12.0 in c:\\users\\fatsani\\anaconda3\\envs\\tensorflow\\lib\\site-packages (from tensorflow) (1.16.0)\n",
      "Collecting tensorboard<2.9,>=2.8\n",
      "  Using cached tensorboard-2.8.0-py3-none-any.whl (5.8 MB)\n",
      "Collecting tensorflow-io-gcs-filesystem>=0.23.1\n",
      "  Using cached tensorflow_io_gcs_filesystem-0.24.0-cp38-cp38-win_amd64.whl (1.5 MB)\n",
      "Collecting protobuf>=3.9.2\n",
      "  Using cached protobuf-3.19.4-cp38-cp38-win_amd64.whl (895 kB)\n",
      "Collecting gast>=0.2.1\n",
      "  Using cached gast-0.5.3-py3-none-any.whl (19 kB)\n",
      "Collecting flatbuffers>=1.12\n",
      "  Using cached flatbuffers-2.0-py2.py3-none-any.whl (26 kB)\n",
      "Requirement already satisfied: typing-extensions>=3.6.6 in c:\\users\\fatsani\\anaconda3\\envs\\tensorflow\\lib\\site-packages (from tensorflow) (3.10.0.2)\n",
      "Collecting wrapt>=1.11.0\n",
      "  Using cached wrapt-1.13.3-cp38-cp38-win_amd64.whl (34 kB)\n",
      "Collecting google-pasta>=0.1.1\n",
      "  Using cached google_pasta-0.2.0-py3-none-any.whl (57 kB)\n",
      "Collecting tf-estimator-nightly==2.8.0.dev2021122109\n",
      "  Using cached tf_estimator_nightly-2.8.0.dev2021122109-py2.py3-none-any.whl (462 kB)\n",
      "Requirement already satisfied: wheel<1.0,>=0.23.0 in c:\\users\\fatsani\\anaconda3\\envs\\tensorflow\\lib\\site-packages (from astunparse>=1.6.0->tensorflow) (0.37.1)\n",
      "Collecting google-auth-oauthlib<0.5,>=0.4.1\n",
      "  Using cached google_auth_oauthlib-0.4.6-py2.py3-none-any.whl (18 kB)\n",
      "Collecting tensorboard-data-server<0.7.0,>=0.6.0\n",
      "  Using cached tensorboard_data_server-0.6.1-py3-none-any.whl (2.4 kB)\n",
      "Collecting werkzeug>=0.11.15\n",
      "  Downloading Werkzeug-2.0.3-py3-none-any.whl (289 kB)\n",
      "     ------------------------------------- 289.2/289.2 KB 10.4 kB/s eta 0:00:00\n",
      "Collecting tensorboard-plugin-wit>=1.6.0\n",
      "  Using cached tensorboard_plugin_wit-1.8.1-py3-none-any.whl (781 kB)\n",
      "Requirement already satisfied: requests<3,>=2.21.0 in c:\\users\\fatsani\\anaconda3\\envs\\tensorflow\\lib\\site-packages (from tensorboard<2.9,>=2.8->tensorflow) (2.27.1)\n",
      "Collecting markdown>=2.6.8\n",
      "  Using cached Markdown-3.3.6-py3-none-any.whl (97 kB)\n",
      "Collecting google-auth<3,>=1.6.3\n",
      "  Using cached google_auth-2.6.0-py2.py3-none-any.whl (156 kB)\n",
      "Collecting cachetools<6.0,>=2.0.0\n",
      "  Using cached cachetools-5.0.0-py3-none-any.whl (9.1 kB)\n",
      "Collecting pyasn1-modules>=0.2.1\n",
      "  Using cached pyasn1_modules-0.2.8-py2.py3-none-any.whl (155 kB)\n",
      "Collecting rsa<5,>=3.1.4\n",
      "  Using cached rsa-4.8-py3-none-any.whl (39 kB)\n",
      "Collecting requests-oauthlib>=0.7.0\n",
      "  Using cached requests_oauthlib-1.3.1-py2.py3-none-any.whl (23 kB)\n",
      "Requirement already satisfied: importlib-metadata>=4.4 in c:\\users\\fatsani\\anaconda3\\envs\\tensorflow\\lib\\site-packages (from markdown>=2.6.8->tensorboard<2.9,>=2.8->tensorflow) (4.8.2)\n",
      "Requirement already satisfied: charset-normalizer~=2.0.0 in c:\\users\\fatsani\\anaconda3\\envs\\tensorflow\\lib\\site-packages (from requests<3,>=2.21.0->tensorboard<2.9,>=2.8->tensorflow) (2.0.4)\n",
      "Requirement already satisfied: urllib3<1.27,>=1.21.1 in c:\\users\\fatsani\\anaconda3\\envs\\tensorflow\\lib\\site-packages (from requests<3,>=2.21.0->tensorboard<2.9,>=2.8->tensorflow) (1.26.8)\n",
      "Requirement already satisfied: certifi>=2017.4.17 in c:\\users\\fatsani\\anaconda3\\envs\\tensorflow\\lib\\site-packages (from requests<3,>=2.21.0->tensorboard<2.9,>=2.8->tensorflow) (2021.10.8)\n",
      "Requirement already satisfied: idna<4,>=2.5 in c:\\users\\fatsani\\anaconda3\\envs\\tensorflow\\lib\\site-packages (from requests<3,>=2.21.0->tensorboard<2.9,>=2.8->tensorflow) (3.3)\n",
      "Requirement already satisfied: zipp>=0.5 in c:\\users\\fatsani\\anaconda3\\envs\\tensorflow\\lib\\site-packages (from importlib-metadata>=4.4->markdown>=2.6.8->tensorboard<2.9,>=2.8->tensorflow) (3.7.0)\n",
      "Collecting pyasn1<0.5.0,>=0.4.6\n",
      "  Using cached pyasn1-0.4.8-py2.py3-none-any.whl (77 kB)\n",
      "Collecting oauthlib>=3.0.0\n",
      "  Using cached oauthlib-3.2.0-py3-none-any.whl (151 kB)\n",
      "Installing collected packages: tf-estimator-nightly, termcolor, tensorboard-plugin-wit, pyasn1, libclang, keras, flatbuffers, wrapt, werkzeug, tensorflow-io-gcs-filesystem, tensorboard-data-server, rsa, pyasn1-modules, protobuf, oauthlib, numpy, grpcio, google-pasta, gast, cachetools, astunparse, absl-py, requests-oauthlib, opt-einsum, markdown, keras-preprocessing, h5py, google-auth, google-auth-oauthlib, tensorboard, tensorflow\n",
      "Successfully installed absl-py-1.0.0 astunparse-1.6.3 cachetools-5.0.0 flatbuffers-2.0 gast-0.5.3 google-auth-2.6.0 google-auth-oauthlib-0.4.6 google-pasta-0.2.0 grpcio-1.44.0 h5py-3.6.0 keras-2.8.0 keras-preprocessing-1.1.2 libclang-13.0.0 markdown-3.3.6 numpy-1.22.2 oauthlib-3.2.0 opt-einsum-3.3.0 protobuf-3.19.4 pyasn1-0.4.8 pyasn1-modules-0.2.8 requests-oauthlib-1.3.1 rsa-4.8 tensorboard-2.8.0 tensorboard-data-server-0.6.1 tensorboard-plugin-wit-1.8.1 tensorflow-2.8.0 tensorflow-io-gcs-filesystem-0.24.0 termcolor-1.1.0 tf-estimator-nightly-2.8.0.dev2021122109 werkzeug-2.0.3 wrapt-1.13.3\n"
     ]
    }
   ],
   "source": [
    "pip install tensorflow"
   ]
  },
  {
   "cell_type": "code",
   "execution_count": 1,
   "id": "81d964ee",
   "metadata": {},
   "outputs": [],
   "source": [
    "import tensorflow as tf\n",
    "from tensorflow.keras import layers\n",
    "from tensorflow.keras.layers import Dense\n",
    "from tensorflow.keras.models import Sequential"
   ]
  },
  {
   "cell_type": "code",
   "execution_count": 15,
   "id": "d9bb2141",
   "metadata": {},
   "outputs": [
    {
     "name": "stdout",
     "output_type": "stream",
     "text": [
      "Requirement already satisfied: numpy in c:\\users\\fatsani\\anaconda3\\envs\\tensorflow\\lib\\site-packages (1.22.2)\n",
      "Note: you may need to restart the kernel to use updated packages.\n"
     ]
    }
   ],
   "source": [
    "pip install numpy"
   ]
  },
  {
   "cell_type": "code",
   "execution_count": 2,
   "id": "440aa558",
   "metadata": {},
   "outputs": [],
   "source": [
    "import numpy as np"
   ]
  },
  {
   "cell_type": "code",
   "execution_count": 17,
   "id": "7f441c7d",
   "metadata": {
    "scrolled": true
   },
   "outputs": [
    {
     "name": "stdout",
     "output_type": "stream",
     "text": [
      "Collecting pandas\n",
      "  Downloading pandas-1.4.1-cp38-cp38-win_amd64.whl (10.6 MB)\n",
      "     --------------------------------------- 10.6/10.6 MB 33.4 kB/s eta 0:00:00\n",
      "Requirement already satisfied: pytz>=2020.1 in c:\\users\\fatsani\\anaconda3\\envs\\tensorflow\\lib\\site-packages (from pandas) (2021.3)\n",
      "Requirement already satisfied: python-dateutil>=2.8.1 in c:\\users\\fatsani\\anaconda3\\envs\\tensorflow\\lib\\site-packages (from pandas) (2.8.2)\n",
      "Requirement already satisfied: numpy>=1.18.5 in c:\\users\\fatsani\\anaconda3\\envs\\tensorflow\\lib\\site-packages (from pandas) (1.22.2)\n",
      "Requirement already satisfied: six>=1.5 in c:\\users\\fatsani\\anaconda3\\envs\\tensorflow\\lib\\site-packages (from python-dateutil>=2.8.1->pandas) (1.16.0)\n",
      "Installing collected packages: pandas\n",
      "Successfully installed pandas-1.4.1\n",
      "Note: you may need to restart the kernel to use updated packages.\n"
     ]
    }
   ],
   "source": [
    "pip install pandas"
   ]
  },
  {
   "cell_type": "code",
   "execution_count": 3,
   "id": "98f4eed6",
   "metadata": {},
   "outputs": [],
   "source": [
    "import pandas as pd"
   ]
  },
  {
   "cell_type": "code",
   "execution_count": 4,
   "id": "df27e7e3",
   "metadata": {},
   "outputs": [],
   "source": [
    "np.set_printoptions(precision=3, suppress=True)"
   ]
  },
  {
   "cell_type": "code",
   "execution_count": 6,
   "id": "225f2a8b",
   "metadata": {},
   "outputs": [
    {
     "name": "stdout",
     "output_type": "stream",
     "text": [
      "Collecting petlNote: you may need to restart the kernel to use updated packages.\n",
      "\n",
      "  Downloading petl-1.7.8.tar.gz (401 kB)\n",
      "     ------------------------------------ 401.9/401.9 KB 447.6 kB/s eta 0:00:00\n",
      "  Installing build dependencies: started\n",
      "  Installing build dependencies: still running...\n",
      "  Installing build dependencies: finished with status 'done'\n",
      "  Getting requirements to build wheel: started\n",
      "  Getting requirements to build wheel: finished with status 'done'\n",
      "  Preparing metadata (pyproject.toml): started\n",
      "  Preparing metadata (pyproject.toml): finished with status 'done'\n",
      "Building wheels for collected packages: petl\n",
      "  Building wheel for petl (pyproject.toml): started\n",
      "  Building wheel for petl (pyproject.toml): finished with status 'done'\n",
      "  Created wheel for petl: filename=petl-1.7.8-py3-none-any.whl size=219368 sha256=1fe311e24fe54952d837be57fb2b6033e9a60625b2e315456f1be6950504eb4c\n",
      "  Stored in directory: c:\\users\\fatsani\\appdata\\local\\pip\\cache\\wheels\\3b\\36\\f2\\8fe2c3fb532a750c3f8bbb9d18cfca9a44e2813c76ff5ee1b8\n",
      "Successfully built petl\n",
      "Installing collected packages: petl\n",
      "Successfully installed petl-1.7.8\n"
     ]
    }
   ],
   "source": [
    "pip install petl"
   ]
  },
  {
   "cell_type": "code",
   "execution_count": 5,
   "id": "0664bfd6",
   "metadata": {},
   "outputs": [],
   "source": [
    "import petl as etl"
   ]
  },
  {
   "cell_type": "code",
   "execution_count": 7,
   "id": "9bf8cf07",
   "metadata": {},
   "outputs": [],
   "source": [
    "sds = etl.fromcsv(\"sales_data_sample.csv\")"
   ]
  },
  {
   "cell_type": "code",
   "execution_count": 8,
   "id": "d1af0bf4",
   "metadata": {},
   "outputs": [
    {
     "data": {
      "text/plain": [
       "+-------------+-----------------+-----------+-----------------+-----------+-------------------+-----------+--------+----------+---------+---------------+------+-------------+----------------------------+--------------------+---------------------------------+--------------+-----------------+-------+------------+----------+-----------+-----------------+------------------+----------+\n",
       "| ORDERNUMBER | QUANTITYORDERED | PRICEEACH | ORDERLINENUMBER | SALES     | ORDERDATE         | STATUS    | QTR_ID | MONTH_ID | YEAR_ID | PRODUCTLINE   | MSRP | PRODUCTCODE | CUSTOMERNAME               | PHONE              | ADDRESSLINE1                    | ADDRESSLINE2 | CITY            | STATE | POSTALCODE | COUNTRY  | TERRITORY | CONTACTLASTNAME | CONTACTFIRSTNAME | DEALSIZE |\n",
       "+=============+=================+===========+=================+===========+===================+===========+========+==========+=========+===============+======+=============+============================+====================+=================================+==============+=================+=======+============+==========+===========+=================+==================+==========+\n",
       "| '10107'     | '30'            | '95.7'    | '2'             | '2871'    | '2/24/2003 0:00'  | 'Shipped' | '1'    | '2'      | '2003'  | 'Motorcycles' | '95' | 'S10_1678'  | 'Land of Toys Inc.'        | '2125557818'       | '897 Long Airport Avenue'       | ''           | 'NYC'           | 'NY'  | '10022'    | 'USA'    | 'NA'      | 'Yu'            | 'Kwai'           | 'Small'  |\n",
       "+-------------+-----------------+-----------+-----------------+-----------+-------------------+-----------+--------+----------+---------+---------------+------+-------------+----------------------------+--------------------+---------------------------------+--------------+-----------------+-------+------------+----------+-----------+-----------------+------------------+----------+\n",
       "| '10121'     | '34'            | '81.35'   | '5'             | '2765.9'  | '5/7/2003 0:00'   | 'Shipped' | '2'    | '5'      | '2003'  | 'Motorcycles' | '95' | 'S10_1678'  | 'Reims Collectables'       | '26.47.1555'       | \"59 rue de l'Abbaye\"            | ''           | 'Reims'         | ''    | '51100'    | 'France' | 'EMEA'    | 'Henriot'       | 'Paul'           | 'Small'  |\n",
       "+-------------+-----------------+-----------+-----------------+-----------+-------------------+-----------+--------+----------+---------+---------------+------+-------------+----------------------------+--------------------+---------------------------------+--------------+-----------------+-------+------------+----------+-----------+-----------------+------------------+----------+\n",
       "| '10134'     | '41'            | '94.74'   | '2'             | '3884.34' | '7/1/2003 0:00'   | 'Shipped' | '3'    | '7'      | '2003'  | 'Motorcycles' | '95' | 'S10_1678'  | 'Lyon Souveniers'          | '+33 1 46 62 7555' | '27 rue du Colonel Pierre Avia' | ''           | 'Paris'         | ''    | '75508'    | 'France' | 'EMEA'    | 'Da Cunha'      | 'Daniel'         | 'Medium' |\n",
       "+-------------+-----------------+-----------+-----------------+-----------+-------------------+-----------+--------+----------+---------+---------------+------+-------------+----------------------------+--------------------+---------------------------------+--------------+-----------------+-------+------------+----------+-----------+-----------------+------------------+----------+\n",
       "| '10145'     | '45'            | '83.26'   | '6'             | '3746.7'  | '8/25/2003 0:00'  | 'Shipped' | '3'    | '8'      | '2003'  | 'Motorcycles' | '95' | 'S10_1678'  | 'Toys4GrownUps.com'        | '6265557265'       | '78934 Hillside Dr.'            | ''           | 'Pasadena'      | 'CA'  | '90003'    | 'USA'    | 'NA'      | 'Young'         | 'Julie'          | 'Medium' |\n",
       "+-------------+-----------------+-----------+-----------------+-----------+-------------------+-----------+--------+----------+---------+---------------+------+-------------+----------------------------+--------------------+---------------------------------+--------------+-----------------+-------+------------+----------+-----------+-----------------+------------------+----------+\n",
       "| '10159'     | '49'            | '100'     | '14'            | '5205.27' | '10/10/2003 0:00' | 'Shipped' | '4'    | '10'     | '2003'  | 'Motorcycles' | '95' | 'S10_1678'  | 'Corporate Gift Ideas Co.' | '6505551386'       | '7734 Strong St.'               | ''           | 'San Francisco' | 'CA'  | ''         | 'USA'    | 'NA'      | 'Brown'         | 'Julie'          | 'Medium' |\n",
       "+-------------+-----------------+-----------+-----------------+-----------+-------------------+-----------+--------+----------+---------+---------------+------+-------------+----------------------------+--------------------+---------------------------------+--------------+-----------------+-------+------------+----------+-----------+-----------------+------------------+----------+\n",
       "..."
      ]
     },
     "execution_count": 8,
     "metadata": {},
     "output_type": "execute_result"
    }
   ],
   "source": [
    "etl.look(sds)"
   ]
  },
  {
   "cell_type": "code",
   "execution_count": 9,
   "id": "e73dc6ab",
   "metadata": {},
   "outputs": [],
   "source": [
    "new_sales_data_sample = etl.cut(sds, 'ORDERNUMBER', 'QUANTITYORDERED', 'PRICEEACH', 'SALES')"
   ]
  },
  {
   "cell_type": "code",
   "execution_count": 10,
   "id": "98a55499",
   "metadata": {},
   "outputs": [
    {
     "data": {
      "text/plain": [
       "+-------------+-----------------+-----------+-----------+\n",
       "| ORDERNUMBER | QUANTITYORDERED | PRICEEACH | SALES     |\n",
       "+=============+=================+===========+===========+\n",
       "| '10107'     | '30'            | '95.7'    | '2871'    |\n",
       "+-------------+-----------------+-----------+-----------+\n",
       "| '10121'     | '34'            | '81.35'   | '2765.9'  |\n",
       "+-------------+-----------------+-----------+-----------+\n",
       "| '10134'     | '41'            | '94.74'   | '3884.34' |\n",
       "+-------------+-----------------+-----------+-----------+\n",
       "| '10145'     | '45'            | '83.26'   | '3746.7'  |\n",
       "+-------------+-----------------+-----------+-----------+\n",
       "| '10159'     | '49'            | '100'     | '5205.27' |\n",
       "+-------------+-----------------+-----------+-----------+\n",
       "..."
      ]
     },
     "execution_count": 10,
     "metadata": {},
     "output_type": "execute_result"
    }
   ],
   "source": [
    "etl.look(new_sales_data_sample)"
   ]
  },
  {
   "cell_type": "code",
   "execution_count": 11,
   "id": "c8268b14",
   "metadata": {},
   "outputs": [],
   "source": [
    "etl.tocsv(new_sales_data_sample,'new_sales_data_sample.csv')"
   ]
  },
  {
   "cell_type": "code",
   "execution_count": 12,
   "id": "49b914ac",
   "metadata": {},
   "outputs": [],
   "source": [
    "sds_train = pd.read_csv('new_sales_data_sample.csv')"
   ]
  },
  {
   "cell_type": "code",
   "execution_count": 13,
   "id": "1e78f85e",
   "metadata": {},
   "outputs": [
    {
     "data": {
      "text/html": [
       "<div>\n",
       "<style scoped>\n",
       "    .dataframe tbody tr th:only-of-type {\n",
       "        vertical-align: middle;\n",
       "    }\n",
       "\n",
       "    .dataframe tbody tr th {\n",
       "        vertical-align: top;\n",
       "    }\n",
       "\n",
       "    .dataframe thead th {\n",
       "        text-align: right;\n",
       "    }\n",
       "</style>\n",
       "<table border=\"1\" class=\"dataframe\">\n",
       "  <thead>\n",
       "    <tr style=\"text-align: right;\">\n",
       "      <th></th>\n",
       "      <th>ORDERNUMBER</th>\n",
       "      <th>QUANTITYORDERED</th>\n",
       "      <th>PRICEEACH</th>\n",
       "      <th>SALES</th>\n",
       "    </tr>\n",
       "  </thead>\n",
       "  <tbody>\n",
       "    <tr>\n",
       "      <th>0</th>\n",
       "      <td>10107</td>\n",
       "      <td>30</td>\n",
       "      <td>95.70</td>\n",
       "      <td>2871.00</td>\n",
       "    </tr>\n",
       "    <tr>\n",
       "      <th>1</th>\n",
       "      <td>10121</td>\n",
       "      <td>34</td>\n",
       "      <td>81.35</td>\n",
       "      <td>2765.90</td>\n",
       "    </tr>\n",
       "    <tr>\n",
       "      <th>2</th>\n",
       "      <td>10134</td>\n",
       "      <td>41</td>\n",
       "      <td>94.74</td>\n",
       "      <td>3884.34</td>\n",
       "    </tr>\n",
       "    <tr>\n",
       "      <th>3</th>\n",
       "      <td>10145</td>\n",
       "      <td>45</td>\n",
       "      <td>83.26</td>\n",
       "      <td>3746.70</td>\n",
       "    </tr>\n",
       "    <tr>\n",
       "      <th>4</th>\n",
       "      <td>10159</td>\n",
       "      <td>49</td>\n",
       "      <td>100.00</td>\n",
       "      <td>5205.27</td>\n",
       "    </tr>\n",
       "  </tbody>\n",
       "</table>\n",
       "</div>"
      ],
      "text/plain": [
       "   ORDERNUMBER  QUANTITYORDERED  PRICEEACH    SALES\n",
       "0        10107               30      95.70  2871.00\n",
       "1        10121               34      81.35  2765.90\n",
       "2        10134               41      94.74  3884.34\n",
       "3        10145               45      83.26  3746.70\n",
       "4        10159               49     100.00  5205.27"
      ]
     },
     "execution_count": 13,
     "metadata": {},
     "output_type": "execute_result"
    }
   ],
   "source": [
    "sds_train.head()"
   ]
  },
  {
   "cell_type": "code",
   "execution_count": 14,
   "id": "4ea64b59",
   "metadata": {},
   "outputs": [],
   "source": [
    "sds_features = sds_train.copy()\n",
    "sds_labels = sds_features.pop(\"PRICEEACH\")"
   ]
  },
  {
   "cell_type": "code",
   "execution_count": 15,
   "id": "bba2ec83",
   "metadata": {},
   "outputs": [
    {
     "data": {
      "text/plain": [
       "array([[10107.  ,    30.  ,  2871.  ],\n",
       "       [10121.  ,    34.  ,  2765.9 ],\n",
       "       [10134.  ,    41.  ,  3884.34],\n",
       "       ...,\n",
       "       [10386.  ,    43.  ,  5417.57],\n",
       "       [10397.  ,    34.  ,  2116.16],\n",
       "       [10414.  ,    47.  ,  3079.44]])"
      ]
     },
     "execution_count": 15,
     "metadata": {},
     "output_type": "execute_result"
    }
   ],
   "source": [
    "sds_features = np.array(sds_features)\n",
    "sds_features"
   ]
  },
  {
   "cell_type": "code",
   "execution_count": 16,
   "id": "d776610f",
   "metadata": {},
   "outputs": [],
   "source": [
    "sds_model = tf.keras.Sequential([\n",
    "  layers.Dense(200),\n",
    "  layers.Dense(0)\n",
    "])\n",
    "\n",
    "sds_model.compile(loss = tf.losses.MeanSquaredError(),\n",
    "                      optimizer = tf.optimizers.Adam())"
   ]
  },
  {
   "cell_type": "code",
   "execution_count": 17,
   "id": "95d3c614",
   "metadata": {},
   "outputs": [
    {
     "name": "stdout",
     "output_type": "stream",
     "text": [
      "Epoch 1/10\n",
      "89/89 [==============================] - 4s 6ms/step - loss: nan\n",
      "Epoch 2/10\n",
      "89/89 [==============================] - 0s 4ms/step - loss: nan\n",
      "Epoch 3/10\n",
      "89/89 [==============================] - 0s 4ms/step - loss: nan\n",
      "Epoch 4/10\n",
      "89/89 [==============================] - 0s 4ms/step - loss: nan\n",
      "Epoch 5/10\n",
      "89/89 [==============================] - 0s 5ms/step - loss: nan\n",
      "Epoch 6/10\n",
      "89/89 [==============================] - 0s 4ms/step - loss: nan\n",
      "Epoch 7/10\n",
      "89/89 [==============================] - 0s 4ms/step - loss: nan\n",
      "Epoch 8/10\n",
      "89/89 [==============================] - 0s 4ms/step - loss: nan\n",
      "Epoch 9/10\n",
      "89/89 [==============================] - 0s 5ms/step - loss: nan\n",
      "Epoch 10/10\n",
      "89/89 [==============================] - 0s 5ms/step - loss: nan\n"
     ]
    },
    {
     "data": {
      "text/plain": [
       "<keras.callbacks.History at 0x191b72dfe50>"
      ]
     },
     "execution_count": 17,
     "metadata": {},
     "output_type": "execute_result"
    }
   ],
   "source": [
    "sds_model.fit(sds_features, sds_labels, epochs=10)"
   ]
  },
  {
   "cell_type": "code",
   "execution_count": 18,
   "id": "d22791cf",
   "metadata": {},
   "outputs": [],
   "source": [
    "normalize = layers.Normalization()"
   ]
  },
  {
   "cell_type": "code",
   "execution_count": 19,
   "id": "72f47723",
   "metadata": {},
   "outputs": [],
   "source": [
    "normalize.adapt(sds_features)"
   ]
  },
  {
   "cell_type": "code",
   "execution_count": 20,
   "id": "0cf016ab",
   "metadata": {},
   "outputs": [
    {
     "name": "stdout",
     "output_type": "stream",
     "text": [
      "Epoch 1/10\n",
      "89/89 [==============================] - 2s 5ms/step - loss: nan\n",
      "Epoch 2/10\n",
      "89/89 [==============================] - 1s 6ms/step - loss: nan\n",
      "Epoch 3/10\n",
      "89/89 [==============================] - 0s 5ms/step - loss: nan\n",
      "Epoch 4/10\n",
      "89/89 [==============================] - 0s 5ms/step - loss: nan\n",
      "Epoch 5/10\n",
      "89/89 [==============================] - 0s 5ms/step - loss: nan\n",
      "Epoch 6/10\n",
      "89/89 [==============================] - 0s 5ms/step - loss: nan\n",
      "Epoch 7/10\n",
      "89/89 [==============================] - 1s 9ms/step - loss: nan\n",
      "Epoch 8/10\n",
      "89/89 [==============================] - 1s 10ms/step - loss: nan\n",
      "Epoch 9/10\n",
      "89/89 [==============================] - 1s 12ms/step - loss: nan\n",
      "Epoch 10/10\n",
      "89/89 [==============================] - 1s 7ms/step - loss: nan\n"
     ]
    },
    {
     "data": {
      "text/plain": [
       "<keras.callbacks.History at 0x191b6050850>"
      ]
     },
     "execution_count": 20,
     "metadata": {},
     "output_type": "execute_result"
    }
   ],
   "source": [
    "norm_sds_model = tf.keras.Sequential([\n",
    "  normalize,\n",
    "  layers.Dense(200),\n",
    "  layers.Dense(0)\n",
    "])\n",
    "\n",
    "norm_sds_model.compile(loss = tf.losses.MeanSquaredError(),\n",
    "                           optimizer = tf.optimizers.Adam())\n",
    "\n",
    "norm_sds_model.fit(sds_features, sds_labels, epochs=10)"
   ]
  },
  {
   "cell_type": "code",
   "execution_count": 21,
   "id": "6210e9a5",
   "metadata": {},
   "outputs": [
    {
     "name": "stdout",
     "output_type": "stream",
     "text": [
      "INFO:tensorflow:Assets written to: new\\assets\n"
     ]
    }
   ],
   "source": [
    "sds_model.save('new')\n",
    "reloaded = tf.keras.models.load_model('new')"
   ]
  },
  {
   "cell_type": "code",
   "execution_count": 22,
   "id": "7be40b46",
   "metadata": {},
   "outputs": [
    {
     "name": "stdout",
     "output_type": "stream",
     "text": [
      "Model: \"sequential\"\n",
      "_________________________________________________________________\n",
      " Layer (type)                Output Shape              Param #   \n",
      "=================================================================\n",
      " dense (Dense)               (None, 200)               800       \n",
      "                                                                 \n",
      " dense_1 (Dense)             (None, 0)                 0         \n",
      "                                                                 \n",
      "=================================================================\n",
      "Total params: 800\n",
      "Trainable params: 800\n",
      "Non-trainable params: 0\n",
      "_________________________________________________________________\n"
     ]
    }
   ],
   "source": [
    "sds_model.summary()"
   ]
  },
  {
   "cell_type": "code",
   "execution_count": null,
   "id": "6cd6f43a",
   "metadata": {},
   "outputs": [],
   "source": []
  }
 ],
 "metadata": {
  "kernelspec": {
   "display_name": "Python 3 (ipykernel)",
   "language": "python",
   "name": "python3"
  },
  "language_info": {
   "codemirror_mode": {
    "name": "ipython",
    "version": 3
   },
   "file_extension": ".py",
   "mimetype": "text/x-python",
   "name": "python",
   "nbconvert_exporter": "python",
   "pygments_lexer": "ipython3",
   "version": "3.8.12"
  }
 },
 "nbformat": 4,
 "nbformat_minor": 5
}
