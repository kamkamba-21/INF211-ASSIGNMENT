{
 "cells": [
  {
   "cell_type": "code",
   "execution_count": 2,
   "metadata": {},
   "outputs": [
    {
     "name": "stdout",
     "output_type": "stream",
     "text": [
      "Collecting package metadata (current_repodata.json): ...working... done\n",
      "\n",
      "Note: you may need to restart the kernel to use updated packages.\n",
      "Solving environment: ...working... done\n",
      "\n",
      "## Package Plan ##\n",
      "\n",
      "  environment location: C:\\Users\\Fatsani\\anaconda3\n",
      "\n",
      "  added / updated specs:\n",
      "    - petl\n",
      "\n",
      "\n",
      "The following packages will be downloaded:\n",
      "\n",
      "    package                    |            build\n",
      "    ---------------------------|-----------------\n",
      "    conda-4.11.0               |   py38haa95532_0        14.4 MB\n",
      "    petl-1.7.4                 |     pyhd3eb1b0_0         146 KB\n",
      "    ------------------------------------------------------------\n",
      "                                           Total:        14.6 MB\n",
      "\n",
      "The following NEW packages will be INSTALLED:\n",
      "\n",
      "  petl               pkgs/main/noarch::petl-1.7.4-pyhd3eb1b0_0\n",
      "\n",
      "The following packages will be UPDATED:\n",
      "\n",
      "  conda                                4.9.2-py38haa95532_0 --> 4.11.0-py38haa95532_0\n",
      "\n",
      "\n",
      "\n",
      "Downloading and Extracting Packages\n",
      "\n",
      "petl-1.7.4           | 146 KB    |            |   0% \n",
      "petl-1.7.4           | 146 KB    | #          |  11% \n",
      "petl-1.7.4           | 146 KB    | ########7  |  88% \n",
      "petl-1.7.4           | 146 KB    | ########## | 100% \n",
      "\n",
      "conda-4.11.0         | 14.4 MB   |            |   0% \n",
      "conda-4.11.0         | 14.4 MB   |            |   0% \n",
      "conda-4.11.0         | 14.4 MB   |            |   0% \n",
      "conda-4.11.0         | 14.4 MB   | 1          |   2% \n",
      "conda-4.11.0         | 14.4 MB   | 4          |   5% \n",
      "conda-4.11.0         | 14.4 MB   | 6          |   6% \n",
      "conda-4.11.0         | 14.4 MB   | 9          |  10% \n",
      "conda-4.11.0         | 14.4 MB   | #5         |  15% \n",
      "conda-4.11.0         | 14.4 MB   | #9         |  19% \n",
      "conda-4.11.0         | 14.4 MB   | ##2        |  23% \n",
      "conda-4.11.0         | 14.4 MB   | ##5        |  26% \n",
      "conda-4.11.0         | 14.4 MB   | ###        |  31% \n",
      "conda-4.11.0         | 14.4 MB   | ###4       |  34% \n",
      "conda-4.11.0         | 14.4 MB   | ###7       |  37% \n",
      "conda-4.11.0         | 14.4 MB   | ####       |  40% \n",
      "conda-4.11.0         | 14.4 MB   | ####4      |  44% \n",
      "conda-4.11.0         | 14.4 MB   | #####1     |  51% \n",
      "conda-4.11.0         | 14.4 MB   | #####7     |  57% \n",
      "conda-4.11.0         | 14.4 MB   | ######     |  61% \n",
      "conda-4.11.0         | 14.4 MB   | ######3    |  64% \n",
      "conda-4.11.0         | 14.4 MB   | #######3   |  73% \n",
      "conda-4.11.0         | 14.4 MB   | #######7   |  78% \n",
      "conda-4.11.0         | 14.4 MB   | ########2  |  82% \n",
      "conda-4.11.0         | 14.4 MB   | ########6  |  87% \n",
      "conda-4.11.0         | 14.4 MB   | #########  |  90% \n",
      "conda-4.11.0         | 14.4 MB   | #########5 |  95% \n",
      "conda-4.11.0         | 14.4 MB   | #########9 |  99% \n",
      "conda-4.11.0         | 14.4 MB   | ########## | 100% \n",
      "Preparing transaction: ...working... done\n",
      "Verifying transaction: ...working... done\n",
      "Executing transaction: ...working... done\n"
     ]
    }
   ],
   "source": [
    "conda install petl"
   ]
  },
  {
   "cell_type": "code",
   "execution_count": 21,
   "metadata": {},
   "outputs": [],
   "source": [
    "import petl as etl"
   ]
  },
  {
   "cell_type": "code",
   "execution_count": 6,
   "metadata": {},
   "outputs": [
    {
     "name": "stdout",
     "output_type": "stream",
     "text": [
      "Collecting package metadata (current_repodata.json): ...working... failed\n",
      "\n",
      "Note: you may need to restart the kernel to use updated packages.\n"
     ]
    },
    {
     "name": "stderr",
     "output_type": "stream",
     "text": [
      "\n",
      "CondaHTTPError: HTTP 000 CONNECTION FAILED for url <https://repo.anaconda.com/pkgs/main/win-64/current_repodata.json>\n",
      "Elapsed: -\n",
      "\n",
      "An HTTP error occurred when trying to retrieve this URL.\n",
      "HTTP errors are often intermittent, and a simple retry will get you on your way.\n",
      "\n",
      "If your current network has https://www.anaconda.com blocked, please file\n",
      "a support request with your network engineering team.\n",
      "\n",
      "'https://repo.anaconda.com/pkgs/main/win-64'\n",
      "\n",
      "\n"
     ]
    }
   ],
   "source": [
    "conda create -y -n streamlit python=3.7"
   ]
  },
  {
   "cell_type": "code",
   "execution_count": 5,
   "metadata": {},
   "outputs": [
    {
     "name": "stdout",
     "output_type": "stream",
     "text": [
      "\n",
      "Note: you may need to restart the kernel to use updated packages.\n"
     ]
    }
   ],
   "source": [
    "conda activate streamlit"
   ]
  },
  {
   "cell_type": "code",
   "execution_count": 6,
   "metadata": {},
   "outputs": [
    {
     "name": "stdout",
     "output_type": "stream",
     "text": [
      "Requirement already satisfied: streamlit in c:\\users\\fatsani\\anaconda3\\lib\\site-packages (1.3.1)Note: you may need to restart the kernel to use updated packages.\n",
      "\n",
      "Requirement already satisfied: attrs in c:\\users\\fatsani\\anaconda3\\lib\\site-packages (from streamlit) (20.3.0)\n",
      "Requirement already satisfied: packaging in c:\\users\\fatsani\\anaconda3\\lib\\site-packages (from streamlit) (20.4)\n",
      "Requirement already satisfied: protobuf!=3.11,>=3.6.0 in c:\\users\\fatsani\\anaconda3\\lib\\site-packages (from streamlit) (3.19.1)\n",
      "Requirement already satisfied: astor in c:\\users\\fatsani\\anaconda3\\lib\\site-packages (from streamlit) (0.8.1)\n",
      "Requirement already satisfied: tornado>=5.0 in c:\\users\\fatsani\\anaconda3\\lib\\site-packages (from streamlit) (6.0.4)\n",
      "Requirement already satisfied: blinker in c:\\users\\fatsani\\anaconda3\\lib\\site-packages (from streamlit) (1.4)\n",
      "Requirement already satisfied: pandas>=0.21.0 in c:\\users\\fatsani\\anaconda3\\lib\\site-packages (from streamlit) (1.3.5)\n",
      "Requirement already satisfied: tzlocal in c:\\users\\fatsani\\anaconda3\\lib\\site-packages (from streamlit) (4.1)\n",
      "Requirement already satisfied: validators in c:\\users\\fatsani\\anaconda3\\lib\\site-packages (from streamlit) (0.18.2)\n",
      "Requirement already satisfied: pydeck>=0.1.dev5 in c:\\users\\fatsani\\anaconda3\\lib\\site-packages (from streamlit) (0.7.1)\n",
      "Requirement already satisfied: pillow>=6.2.0 in c:\\users\\fatsani\\anaconda3\\lib\\site-packages (from streamlit) (8.0.1)\n",
      "Requirement already satisfied: watchdog; platform_system != \"Darwin\" in c:\\users\\fatsani\\anaconda3\\lib\\site-packages (from streamlit) (0.10.3)\n",
      "Requirement already satisfied: requests in c:\\users\\fatsani\\anaconda3\\lib\\site-packages (from streamlit) (2.24.0)\n",
      "Requirement already satisfied: pyarrow in c:\\users\\fatsani\\anaconda3\\lib\\site-packages (from streamlit) (6.0.1)\n",
      "Requirement already satisfied: cachetools>=4.0 in c:\\users\\fatsani\\anaconda3\\lib\\site-packages (from streamlit) (5.0.0)\n",
      "Requirement already satisfied: altair>=3.2.0 in c:\\users\\fatsani\\anaconda3\\lib\\site-packages (from streamlit) (4.2.0)\n",
      "Requirement already satisfied: numpy in c:\\users\\fatsani\\anaconda3\\lib\\site-packages (from streamlit) (1.21.5)\n",
      "Requirement already satisfied: gitpython!=3.1.19 in c:\\users\\fatsani\\anaconda3\\lib\\site-packages (from streamlit) (3.1.24)\n",
      "Requirement already satisfied: base58 in c:\\users\\fatsani\\anaconda3\\lib\\site-packages (from streamlit) (2.1.1)\n",
      "Requirement already satisfied: toml in c:\\users\\fatsani\\anaconda3\\lib\\site-packages (from streamlit) (0.10.1)\n",
      "Requirement already satisfied: python-dateutil in c:\\users\\fatsani\\anaconda3\\lib\\site-packages (from streamlit) (2.8.1)\n",
      "Requirement already satisfied: pympler>=0.9 in c:\\users\\fatsani\\anaconda3\\lib\\site-packages (from streamlit) (1.0.1)\n",
      "Requirement already satisfied: click<8.0,>=7.0 in c:\\users\\fatsani\\anaconda3\\lib\\site-packages (from streamlit) (7.1.2)\n",
      "Requirement already satisfied: pyparsing>=2.0.2 in c:\\users\\fatsani\\anaconda3\\lib\\site-packages (from packaging->streamlit) (2.4.7)\n",
      "Requirement already satisfied: six in c:\\users\\fatsani\\anaconda3\\lib\\site-packages (from packaging->streamlit) (1.15.0)\n",
      "Requirement already satisfied: pytz>=2017.3 in c:\\users\\fatsani\\anaconda3\\lib\\site-packages (from pandas>=0.21.0->streamlit) (2020.1)\n",
      "Requirement already satisfied: backports.zoneinfo; python_version < \"3.9\" in c:\\users\\fatsani\\anaconda3\\lib\\site-packages (from tzlocal->streamlit) (0.2.1)\n",
      "Requirement already satisfied: tzdata; platform_system == \"Windows\" in c:\\users\\fatsani\\anaconda3\\lib\\site-packages (from tzlocal->streamlit) (2021.5)\n",
      "Requirement already satisfied: pytz-deprecation-shim in c:\\users\\fatsani\\anaconda3\\lib\\site-packages (from tzlocal->streamlit) (0.1.0.post0)\n",
      "Requirement already satisfied: decorator>=3.4.0 in c:\\users\\fatsani\\anaconda3\\lib\\site-packages (from validators->streamlit) (4.4.2)\n",
      "Requirement already satisfied: ipywidgets>=7.0.0 in c:\\users\\fatsani\\anaconda3\\lib\\site-packages (from pydeck>=0.1.dev5->streamlit) (7.5.1)\n",
      "Requirement already satisfied: jinja2>=2.10.1 in c:\\users\\fatsani\\anaconda3\\lib\\site-packages (from pydeck>=0.1.dev5->streamlit) (2.11.2)\n",
      "Requirement already satisfied: traitlets>=4.3.2 in c:\\users\\fatsani\\anaconda3\\lib\\site-packages (from pydeck>=0.1.dev5->streamlit) (5.0.5)\n",
      "Requirement already satisfied: ipykernel>=5.1.2; python_version >= \"3.4\" in c:\\users\\fatsani\\anaconda3\\lib\\site-packages (from pydeck>=0.1.dev5->streamlit) (5.3.4)\n",
      "Requirement already satisfied: pathtools>=0.1.1 in c:\\users\\fatsani\\anaconda3\\lib\\site-packages (from watchdog; platform_system != \"Darwin\"->streamlit) (0.1.2)\n",
      "Requirement already satisfied: certifi>=2017.4.17 in c:\\users\\fatsani\\anaconda3\\lib\\site-packages (from requests->streamlit) (2020.6.20)\n",
      "Requirement already satisfied: idna<3,>=2.5 in c:\\users\\fatsani\\anaconda3\\lib\\site-packages (from requests->streamlit) (2.10)\n",
      "Requirement already satisfied: chardet<4,>=3.0.2 in c:\\users\\fatsani\\anaconda3\\lib\\site-packages (from requests->streamlit) (3.0.4)\n",
      "Requirement already satisfied: urllib3!=1.25.0,!=1.25.1,<1.26,>=1.21.1 in c:\\users\\fatsani\\anaconda3\\lib\\site-packages (from requests->streamlit) (1.25.11)\n",
      "Requirement already satisfied: jsonschema>=3.0 in c:\\users\\fatsani\\anaconda3\\lib\\site-packages (from altair>=3.2.0->streamlit) (3.2.0)\n",
      "Requirement already satisfied: entrypoints in c:\\users\\fatsani\\anaconda3\\lib\\site-packages (from altair>=3.2.0->streamlit) (0.3)\n",
      "Requirement already satisfied: toolz in c:\\users\\fatsani\\anaconda3\\lib\\site-packages (from altair>=3.2.0->streamlit) (0.11.1)\n",
      "Requirement already satisfied: gitdb<5,>=4.0.1 in c:\\users\\fatsani\\anaconda3\\lib\\site-packages (from gitpython!=3.1.19->streamlit) (4.0.9)\n",
      "Requirement already satisfied: typing-extensions>=3.7.4.3; python_version < \"3.10\" in c:\\users\\fatsani\\anaconda3\\lib\\site-packages (from gitpython!=3.1.19->streamlit) (3.7.4.3)\n",
      "Requirement already satisfied: nbformat>=4.2.0 in c:\\users\\fatsani\\anaconda3\\lib\\site-packages (from ipywidgets>=7.0.0->pydeck>=0.1.dev5->streamlit) (5.0.8)\n",
      "Requirement already satisfied: widgetsnbextension~=3.5.0 in c:\\users\\fatsani\\anaconda3\\lib\\site-packages (from ipywidgets>=7.0.0->pydeck>=0.1.dev5->streamlit) (3.5.1)\n",
      "Requirement already satisfied: ipython>=4.0.0; python_version >= \"3.3\" in c:\\users\\fatsani\\anaconda3\\lib\\site-packages (from ipywidgets>=7.0.0->pydeck>=0.1.dev5->streamlit) (7.19.0)\n",
      "Requirement already satisfied: MarkupSafe>=0.23 in c:\\users\\fatsani\\anaconda3\\lib\\site-packages (from jinja2>=2.10.1->pydeck>=0.1.dev5->streamlit) (1.1.1)\n",
      "Requirement already satisfied: ipython-genutils in c:\\users\\fatsani\\anaconda3\\lib\\site-packages (from traitlets>=4.3.2->pydeck>=0.1.dev5->streamlit) (0.2.0)\n",
      "Requirement already satisfied: jupyter-client in c:\\users\\fatsani\\anaconda3\\lib\\site-packages (from ipykernel>=5.1.2; python_version >= \"3.4\"->pydeck>=0.1.dev5->streamlit) (6.1.7)\n",
      "Requirement already satisfied: pyrsistent>=0.14.0 in c:\\users\\fatsani\\anaconda3\\lib\\site-packages (from jsonschema>=3.0->altair>=3.2.0->streamlit) (0.17.3)\n",
      "Requirement already satisfied: setuptools in c:\\users\\fatsani\\anaconda3\\lib\\site-packages (from jsonschema>=3.0->altair>=3.2.0->streamlit) (50.3.1.post20201107)\n",
      "Requirement already satisfied: smmap<6,>=3.0.1 in c:\\users\\fatsani\\anaconda3\\lib\\site-packages (from gitdb<5,>=4.0.1->gitpython!=3.1.19->streamlit) (5.0.0)\n",
      "Requirement already satisfied: jupyter-core in c:\\users\\fatsani\\anaconda3\\lib\\site-packages (from nbformat>=4.2.0->ipywidgets>=7.0.0->pydeck>=0.1.dev5->streamlit) (4.6.3)\n",
      "Requirement already satisfied: notebook>=4.4.1 in c:\\users\\fatsani\\anaconda3\\lib\\site-packages (from widgetsnbextension~=3.5.0->ipywidgets>=7.0.0->pydeck>=0.1.dev5->streamlit) (6.1.4)\n",
      "Requirement already satisfied: pickleshare in c:\\users\\fatsani\\anaconda3\\lib\\site-packages (from ipython>=4.0.0; python_version >= \"3.3\"->ipywidgets>=7.0.0->pydeck>=0.1.dev5->streamlit) (0.7.5)\n",
      "Requirement already satisfied: colorama; sys_platform == \"win32\" in c:\\users\\fatsani\\anaconda3\\lib\\site-packages (from ipython>=4.0.0; python_version >= \"3.3\"->ipywidgets>=7.0.0->pydeck>=0.1.dev5->streamlit) (0.4.4)\n",
      "Requirement already satisfied: pygments in c:\\users\\fatsani\\anaconda3\\lib\\site-packages (from ipython>=4.0.0; python_version >= \"3.3\"->ipywidgets>=7.0.0->pydeck>=0.1.dev5->streamlit) (2.7.2)\n",
      "Requirement already satisfied: jedi>=0.10 in c:\\users\\fatsani\\anaconda3\\lib\\site-packages (from ipython>=4.0.0; python_version >= \"3.3\"->ipywidgets>=7.0.0->pydeck>=0.1.dev5->streamlit) (0.17.1)\n",
      "Requirement already satisfied: prompt-toolkit!=3.0.0,!=3.0.1,<3.1.0,>=2.0.0 in c:\\users\\fatsani\\anaconda3\\lib\\site-packages (from ipython>=4.0.0; python_version >= \"3.3\"->ipywidgets>=7.0.0->pydeck>=0.1.dev5->streamlit) (3.0.8)\n",
      "Requirement already satisfied: backcall in c:\\users\\fatsani\\anaconda3\\lib\\site-packages (from ipython>=4.0.0; python_version >= \"3.3\"->ipywidgets>=7.0.0->pydeck>=0.1.dev5->streamlit) (0.2.0)\n",
      "Requirement already satisfied: pyzmq>=13 in c:\\users\\fatsani\\anaconda3\\lib\\site-packages (from jupyter-client->ipykernel>=5.1.2; python_version >= \"3.4\"->pydeck>=0.1.dev5->streamlit) (19.0.2)\n",
      "Requirement already satisfied: pywin32>=1.0; sys_platform == \"win32\" in c:\\users\\fatsani\\anaconda3\\lib\\site-packages (from jupyter-core->nbformat>=4.2.0->ipywidgets>=7.0.0->pydeck>=0.1.dev5->streamlit) (227)\n",
      "Requirement already satisfied: nbconvert in c:\\users\\fatsani\\anaconda3\\lib\\site-packages (from notebook>=4.4.1->widgetsnbextension~=3.5.0->ipywidgets>=7.0.0->pydeck>=0.1.dev5->streamlit) (6.0.7)\n",
      "Requirement already satisfied: terminado>=0.8.3 in c:\\users\\fatsani\\anaconda3\\lib\\site-packages (from notebook>=4.4.1->widgetsnbextension~=3.5.0->ipywidgets>=7.0.0->pydeck>=0.1.dev5->streamlit) (0.9.1)\n",
      "Requirement already satisfied: argon2-cffi in c:\\users\\fatsani\\anaconda3\\lib\\site-packages (from notebook>=4.4.1->widgetsnbextension~=3.5.0->ipywidgets>=7.0.0->pydeck>=0.1.dev5->streamlit) (20.1.0)\n",
      "Requirement already satisfied: prometheus-client in c:\\users\\fatsani\\anaconda3\\lib\\site-packages (from notebook>=4.4.1->widgetsnbextension~=3.5.0->ipywidgets>=7.0.0->pydeck>=0.1.dev5->streamlit) (0.8.0)\n",
      "Requirement already satisfied: Send2Trash in c:\\users\\fatsani\\anaconda3\\lib\\site-packages (from notebook>=4.4.1->widgetsnbextension~=3.5.0->ipywidgets>=7.0.0->pydeck>=0.1.dev5->streamlit) (1.5.0)\n",
      "Requirement already satisfied: parso<0.8.0,>=0.7.0 in c:\\users\\fatsani\\anaconda3\\lib\\site-packages (from jedi>=0.10->ipython>=4.0.0; python_version >= \"3.3\"->ipywidgets>=7.0.0->pydeck>=0.1.dev5->streamlit) (0.7.0)\n",
      "Requirement already satisfied: wcwidth in c:\\users\\fatsani\\anaconda3\\lib\\site-packages (from prompt-toolkit!=3.0.0,!=3.0.1,<3.1.0,>=2.0.0->ipython>=4.0.0; python_version >= \"3.3\"->ipywidgets>=7.0.0->pydeck>=0.1.dev5->streamlit) (0.2.5)\n",
      "Requirement already satisfied: bleach in c:\\users\\fatsani\\anaconda3\\lib\\site-packages (from nbconvert->notebook>=4.4.1->widgetsnbextension~=3.5.0->ipywidgets>=7.0.0->pydeck>=0.1.dev5->streamlit) (3.2.1)\n",
      "Requirement already satisfied: mistune<2,>=0.8.1 in c:\\users\\fatsani\\anaconda3\\lib\\site-packages (from nbconvert->notebook>=4.4.1->widgetsnbextension~=3.5.0->ipywidgets>=7.0.0->pydeck>=0.1.dev5->streamlit) (0.8.4)\n",
      "Requirement already satisfied: jupyterlab-pygments in c:\\users\\fatsani\\anaconda3\\lib\\site-packages (from nbconvert->notebook>=4.4.1->widgetsnbextension~=3.5.0->ipywidgets>=7.0.0->pydeck>=0.1.dev5->streamlit) (0.1.2)\n",
      "Requirement already satisfied: pandocfilters>=1.4.1 in c:\\users\\fatsani\\anaconda3\\lib\\site-packages (from nbconvert->notebook>=4.4.1->widgetsnbextension~=3.5.0->ipywidgets>=7.0.0->pydeck>=0.1.dev5->streamlit) (1.4.3)\n",
      "Requirement already satisfied: defusedxml in c:\\users\\fatsani\\anaconda3\\lib\\site-packages (from nbconvert->notebook>=4.4.1->widgetsnbextension~=3.5.0->ipywidgets>=7.0.0->pydeck>=0.1.dev5->streamlit) (0.6.0)\n",
      "Requirement already satisfied: nbclient<0.6.0,>=0.5.0 in c:\\users\\fatsani\\anaconda3\\lib\\site-packages (from nbconvert->notebook>=4.4.1->widgetsnbextension~=3.5.0->ipywidgets>=7.0.0->pydeck>=0.1.dev5->streamlit) (0.5.1)\n",
      "Requirement already satisfied: testpath in c:\\users\\fatsani\\anaconda3\\lib\\site-packages (from nbconvert->notebook>=4.4.1->widgetsnbextension~=3.5.0->ipywidgets>=7.0.0->pydeck>=0.1.dev5->streamlit) (0.4.4)\n",
      "Requirement already satisfied: pywinpty>=0.5 in c:\\users\\fatsani\\anaconda3\\lib\\site-packages (from terminado>=0.8.3->notebook>=4.4.1->widgetsnbextension~=3.5.0->ipywidgets>=7.0.0->pydeck>=0.1.dev5->streamlit) (0.5.7)\n",
      "Requirement already satisfied: cffi>=1.0.0 in c:\\users\\fatsani\\anaconda3\\lib\\site-packages (from argon2-cffi->notebook>=4.4.1->widgetsnbextension~=3.5.0->ipywidgets>=7.0.0->pydeck>=0.1.dev5->streamlit) (1.14.3)\n",
      "Requirement already satisfied: webencodings in c:\\users\\fatsani\\anaconda3\\lib\\site-packages (from bleach->nbconvert->notebook>=4.4.1->widgetsnbextension~=3.5.0->ipywidgets>=7.0.0->pydeck>=0.1.dev5->streamlit) (0.5.1)\n",
      "Requirement already satisfied: async-generator in c:\\users\\fatsani\\anaconda3\\lib\\site-packages (from nbclient<0.6.0,>=0.5.0->nbconvert->notebook>=4.4.1->widgetsnbextension~=3.5.0->ipywidgets>=7.0.0->pydeck>=0.1.dev5->streamlit) (1.10)\n",
      "Requirement already satisfied: nest-asyncio in c:\\users\\fatsani\\anaconda3\\lib\\site-packages (from nbclient<0.6.0,>=0.5.0->nbconvert->notebook>=4.4.1->widgetsnbextension~=3.5.0->ipywidgets>=7.0.0->pydeck>=0.1.dev5->streamlit) (1.4.2)\n",
      "Requirement already satisfied: pycparser in c:\\users\\fatsani\\anaconda3\\lib\\site-packages (from cffi>=1.0.0->argon2-cffi->notebook>=4.4.1->widgetsnbextension~=3.5.0->ipywidgets>=7.0.0->pydeck>=0.1.dev5->streamlit) (2.20)\n"
     ]
    }
   ],
   "source": [
    "pip install streamlit"
   ]
  },
  {
   "cell_type": "code",
   "execution_count": 7,
   "metadata": {},
   "outputs": [],
   "source": [
    "data_inf = etl.fromcsv('DOR.csv')"
   ]
  },
  {
   "cell_type": "code",
   "execution_count": 8,
   "metadata": {},
   "outputs": [
    {
     "data": {
      "text/plain": [
       "+------------------+-----------+--------------+---------------+---------------+--------------------+---------------------+---------------------+-----------------+------------------+------------------+------------------+-------------------+-------------------+\n",
       "| State_UT         | year      | Primary_Boys | Primary_Girls | Primary_Total | Upper Primary_Boys | Upper Primary_Girls | Upper Primary_Total | Secondary _Boys | Secondary _Girls | Secondary _Total | HrSecondary_Boys | HrSecondary_Girls | HrSecondary_Total |\n",
       "+==================+===========+==============+===============+===============+====================+=====================+=====================+=================+==================+==================+==================+===================+===================+\n",
       "| 'A & N Islands'  | '2012-13' | '0.83'       | '0.51'        | '0.68'        | 'Uppe_r_Primary'   | '1.09'              | '1.23'              | '5.57'          | '5.55'           | '5.56'           | '17.66'          | '10.15'           | '14.14'           |\n",
       "+------------------+-----------+--------------+---------------+---------------+--------------------+---------------------+---------------------+-----------------+------------------+------------------+------------------+-------------------+-------------------+\n",
       "| 'A & N Islands'  | '2013-14' | '1.35'       | '1.06'        | '1.21'        | 'NR'               | '1.54'              | '0.51'              | '8.36'          | '5.98'           | '7.2'            | '18.94'          | '12.2'            | '15.87'           |\n",
       "+------------------+-----------+--------------+---------------+---------------+--------------------+---------------------+---------------------+-----------------+------------------+------------------+------------------+-------------------+-------------------+\n",
       "| 'A & N Islands'  | '2014-15' | '0.47'       | '0.55'        | '0.51'        | '1.44'             | '1.95'              | '1.69'              | '11.47'         | '8.16'           | '9.87'           | '21.05'          | '12.21'           | '16.93'           |\n",
       "+------------------+-----------+--------------+---------------+---------------+--------------------+---------------------+---------------------+-----------------+------------------+------------------+------------------+-------------------+-------------------+\n",
       "| 'Andhra Pradesh' | '2012-13' | '3.3'        | '3.05'        | '3.18'        | '3.21'             | '3.51'              | '3.36'              | '12.21'         | '13.25'          | '12.72'          | '2.66'           | 'NR'              | '0.35'            |\n",
       "+------------------+-----------+--------------+---------------+---------------+--------------------+---------------------+---------------------+-----------------+------------------+------------------+------------------+-------------------+-------------------+\n",
       "| 'Andhra Pradesh' | '2013-14' | '4.31'       | '4.39'        | '4.35'        | '3.46'             | '4.12'              | '3.78'              | '11.95'         | '13.37'          | '12.65'          | '12.65'          | '10.85'           | '11.79'           |\n",
       "+------------------+-----------+--------------+---------------+---------------+--------------------+---------------------+---------------------+-----------------+------------------+------------------+------------------+-------------------+-------------------+\n",
       "..."
      ]
     },
     "execution_count": 8,
     "metadata": {},
     "output_type": "execute_result"
    }
   ],
   "source": [
    "etl.look(data_inf)"
   ]
  },
  {
   "cell_type": "code",
   "execution_count": 10,
   "metadata": {},
   "outputs": [
    {
     "ename": "NameError",
     "evalue": "name 'petl' is not defined",
     "output_type": "error",
     "traceback": [
      "\u001b[1;31m---------------------------------------------------------------------------\u001b[0m",
      "\u001b[1;31mNameError\u001b[0m                                 Traceback (most recent call last)",
      "\u001b[1;32m<ipython-input-10-8e80433b9795>\u001b[0m in \u001b[0;36m<module>\u001b[1;34m\u001b[0m\n\u001b[1;32m----> 1\u001b[1;33m \u001b[0mtable\u001b[0m \u001b[1;33m=\u001b[0m \u001b[0mpetl\u001b[0m\u001b[1;33m.\u001b[0m\u001b[0mcat\u001b[0m\u001b[1;33m(\u001b[0m\u001b[0mdata_inf\u001b[0m\u001b[1;33m,\u001b[0m \u001b[0myear\u001b[0m\u001b[1;33m)\u001b[0m\u001b[1;33m\u001b[0m\u001b[1;33m\u001b[0m\u001b[0m\n\u001b[0m",
      "\u001b[1;31mNameError\u001b[0m: name 'petl' is not defined"
     ]
    }
   ],
   "source": [
    "table = petl.cat(data_inf, year)"
   ]
  },
  {
   "cell_type": "code",
   "execution_count": 14,
   "metadata": {},
   "outputs": [],
   "source": [
    "data_inf= etl.melt(data_inf, 'year')"
   ]
  },
  {
   "cell_type": "code",
   "execution_count": 15,
   "metadata": {},
   "outputs": [
    {
     "data": {
      "text/plain": [
       "+-----------+----------------------+------------------+\n",
       "| year      | variable             | value            |\n",
       "+===========+======================+==================+\n",
       "| '2012-13' | 'State_UT'           | 'A & N Islands'  |\n",
       "+-----------+----------------------+------------------+\n",
       "| '2012-13' | 'Primary_Boys'       | '0.83'           |\n",
       "+-----------+----------------------+------------------+\n",
       "| '2012-13' | 'Primary_Girls'      | '0.51'           |\n",
       "+-----------+----------------------+------------------+\n",
       "| '2012-13' | 'Primary_Total'      | '0.68'           |\n",
       "+-----------+----------------------+------------------+\n",
       "| '2012-13' | 'Upper Primary_Boys' | 'Uppe_r_Primary' |\n",
       "+-----------+----------------------+------------------+\n",
       "..."
      ]
     },
     "execution_count": 15,
     "metadata": {},
     "output_type": "execute_result"
    }
   ],
   "source": [
    "etl.look(data_inf)"
   ]
  },
  {
   "cell_type": "code",
   "execution_count": 7,
   "metadata": {},
   "outputs": [],
   "source": [
    "\n",
    "data = etl.fromcsv('test.csv')\n"
   ]
  },
  {
   "cell_type": "code",
   "execution_count": 9,
   "metadata": {},
   "outputs": [
    {
     "ename": "FileNotFoundError",
     "evalue": "[Errno 2] No such file or directory: 'test.csv'",
     "output_type": "error",
     "traceback": [
      "\u001b[1;31m---------------------------------------------------------------------------\u001b[0m",
      "\u001b[1;31mFileNotFoundError\u001b[0m                         Traceback (most recent call last)",
      "\u001b[1;32m~\\anaconda3\\lib\\site-packages\\IPython\\core\\formatters.py\u001b[0m in \u001b[0;36m__call__\u001b[1;34m(self, obj)\u001b[0m\n\u001b[0;32m    700\u001b[0m                 \u001b[0mtype_pprinters\u001b[0m\u001b[1;33m=\u001b[0m\u001b[0mself\u001b[0m\u001b[1;33m.\u001b[0m\u001b[0mtype_printers\u001b[0m\u001b[1;33m,\u001b[0m\u001b[1;33m\u001b[0m\u001b[1;33m\u001b[0m\u001b[0m\n\u001b[0;32m    701\u001b[0m                 deferred_pprinters=self.deferred_printers)\n\u001b[1;32m--> 702\u001b[1;33m             \u001b[0mprinter\u001b[0m\u001b[1;33m.\u001b[0m\u001b[0mpretty\u001b[0m\u001b[1;33m(\u001b[0m\u001b[0mobj\u001b[0m\u001b[1;33m)\u001b[0m\u001b[1;33m\u001b[0m\u001b[1;33m\u001b[0m\u001b[0m\n\u001b[0m\u001b[0;32m    703\u001b[0m             \u001b[0mprinter\u001b[0m\u001b[1;33m.\u001b[0m\u001b[0mflush\u001b[0m\u001b[1;33m(\u001b[0m\u001b[1;33m)\u001b[0m\u001b[1;33m\u001b[0m\u001b[1;33m\u001b[0m\u001b[0m\n\u001b[0;32m    704\u001b[0m             \u001b[1;32mreturn\u001b[0m \u001b[0mstream\u001b[0m\u001b[1;33m.\u001b[0m\u001b[0mgetvalue\u001b[0m\u001b[1;33m(\u001b[0m\u001b[1;33m)\u001b[0m\u001b[1;33m\u001b[0m\u001b[1;33m\u001b[0m\u001b[0m\n",
      "\u001b[1;32m~\\anaconda3\\lib\\site-packages\\IPython\\lib\\pretty.py\u001b[0m in \u001b[0;36mpretty\u001b[1;34m(self, obj)\u001b[0m\n\u001b[0;32m    392\u001b[0m                         \u001b[1;32mif\u001b[0m \u001b[0mcls\u001b[0m \u001b[1;32mis\u001b[0m \u001b[1;32mnot\u001b[0m \u001b[0mobject\u001b[0m\u001b[0;31m \u001b[0m\u001b[0;31m\\\u001b[0m\u001b[1;33m\u001b[0m\u001b[1;33m\u001b[0m\u001b[0m\n\u001b[0;32m    393\u001b[0m                                 \u001b[1;32mand\u001b[0m \u001b[0mcallable\u001b[0m\u001b[1;33m(\u001b[0m\u001b[0mcls\u001b[0m\u001b[1;33m.\u001b[0m\u001b[0m__dict__\u001b[0m\u001b[1;33m.\u001b[0m\u001b[0mget\u001b[0m\u001b[1;33m(\u001b[0m\u001b[1;34m'__repr__'\u001b[0m\u001b[1;33m)\u001b[0m\u001b[1;33m)\u001b[0m\u001b[1;33m:\u001b[0m\u001b[1;33m\u001b[0m\u001b[1;33m\u001b[0m\u001b[0m\n\u001b[1;32m--> 394\u001b[1;33m                             \u001b[1;32mreturn\u001b[0m \u001b[0m_repr_pprint\u001b[0m\u001b[1;33m(\u001b[0m\u001b[0mobj\u001b[0m\u001b[1;33m,\u001b[0m \u001b[0mself\u001b[0m\u001b[1;33m,\u001b[0m \u001b[0mcycle\u001b[0m\u001b[1;33m)\u001b[0m\u001b[1;33m\u001b[0m\u001b[1;33m\u001b[0m\u001b[0m\n\u001b[0m\u001b[0;32m    395\u001b[0m \u001b[1;33m\u001b[0m\u001b[0m\n\u001b[0;32m    396\u001b[0m             \u001b[1;32mreturn\u001b[0m \u001b[0m_default_pprint\u001b[0m\u001b[1;33m(\u001b[0m\u001b[0mobj\u001b[0m\u001b[1;33m,\u001b[0m \u001b[0mself\u001b[0m\u001b[1;33m,\u001b[0m \u001b[0mcycle\u001b[0m\u001b[1;33m)\u001b[0m\u001b[1;33m\u001b[0m\u001b[1;33m\u001b[0m\u001b[0m\n",
      "\u001b[1;32m~\\anaconda3\\lib\\site-packages\\IPython\\lib\\pretty.py\u001b[0m in \u001b[0;36m_repr_pprint\u001b[1;34m(obj, p, cycle)\u001b[0m\n\u001b[0;32m    698\u001b[0m     \u001b[1;34m\"\"\"A pprint that just redirects to the normal repr function.\"\"\"\u001b[0m\u001b[1;33m\u001b[0m\u001b[1;33m\u001b[0m\u001b[0m\n\u001b[0;32m    699\u001b[0m     \u001b[1;31m# Find newlines and replace them with p.break_()\u001b[0m\u001b[1;33m\u001b[0m\u001b[1;33m\u001b[0m\u001b[1;33m\u001b[0m\u001b[0m\n\u001b[1;32m--> 700\u001b[1;33m     \u001b[0moutput\u001b[0m \u001b[1;33m=\u001b[0m \u001b[0mrepr\u001b[0m\u001b[1;33m(\u001b[0m\u001b[0mobj\u001b[0m\u001b[1;33m)\u001b[0m\u001b[1;33m\u001b[0m\u001b[1;33m\u001b[0m\u001b[0m\n\u001b[0m\u001b[0;32m    701\u001b[0m     \u001b[0mlines\u001b[0m \u001b[1;33m=\u001b[0m \u001b[0moutput\u001b[0m\u001b[1;33m.\u001b[0m\u001b[0msplitlines\u001b[0m\u001b[1;33m(\u001b[0m\u001b[1;33m)\u001b[0m\u001b[1;33m\u001b[0m\u001b[1;33m\u001b[0m\u001b[0m\n\u001b[0;32m    702\u001b[0m     \u001b[1;32mwith\u001b[0m \u001b[0mp\u001b[0m\u001b[1;33m.\u001b[0m\u001b[0mgroup\u001b[0m\u001b[1;33m(\u001b[0m\u001b[1;33m)\u001b[0m\u001b[1;33m:\u001b[0m\u001b[1;33m\u001b[0m\u001b[1;33m\u001b[0m\u001b[0m\n",
      "\u001b[1;32m~\\anaconda3\\lib\\site-packages\\petl\\util\\vis.py\u001b[0m in \u001b[0;36m__repr__\u001b[1;34m(self)\u001b[0m\n\u001b[0;32m    102\u001b[0m \u001b[1;33m\u001b[0m\u001b[0m\n\u001b[0;32m    103\u001b[0m         \u001b[1;31m# determine if table overflows limit\u001b[0m\u001b[1;33m\u001b[0m\u001b[1;33m\u001b[0m\u001b[1;33m\u001b[0m\u001b[0m\n\u001b[1;32m--> 104\u001b[1;33m         \u001b[0mtable\u001b[0m\u001b[1;33m,\u001b[0m \u001b[0moverflow\u001b[0m \u001b[1;33m=\u001b[0m \u001b[0m_vis_overflow\u001b[0m\u001b[1;33m(\u001b[0m\u001b[0mself\u001b[0m\u001b[1;33m.\u001b[0m\u001b[0mtable\u001b[0m\u001b[1;33m,\u001b[0m \u001b[0mself\u001b[0m\u001b[1;33m.\u001b[0m\u001b[0mlimit\u001b[0m\u001b[1;33m)\u001b[0m\u001b[1;33m\u001b[0m\u001b[1;33m\u001b[0m\u001b[0m\n\u001b[0m\u001b[0;32m    105\u001b[0m \u001b[1;33m\u001b[0m\u001b[0m\n\u001b[0;32m    106\u001b[0m         \u001b[1;31m# construct output\u001b[0m\u001b[1;33m\u001b[0m\u001b[1;33m\u001b[0m\u001b[1;33m\u001b[0m\u001b[0m\n",
      "\u001b[1;32m~\\anaconda3\\lib\\site-packages\\petl\\util\\vis.py\u001b[0m in \u001b[0;36m_vis_overflow\u001b[1;34m(table, limit)\u001b[0m\n\u001b[0;32m    526\u001b[0m     \u001b[1;32mif\u001b[0m \u001b[0mlimit\u001b[0m\u001b[1;33m:\u001b[0m\u001b[1;33m\u001b[0m\u001b[1;33m\u001b[0m\u001b[0m\n\u001b[0;32m    527\u001b[0m         \u001b[1;31m# try reading one more than the limit, to see if there are more rows\u001b[0m\u001b[1;33m\u001b[0m\u001b[1;33m\u001b[0m\u001b[1;33m\u001b[0m\u001b[0m\n\u001b[1;32m--> 528\u001b[1;33m         \u001b[0mtable\u001b[0m \u001b[1;33m=\u001b[0m \u001b[0mlist\u001b[0m\u001b[1;33m(\u001b[0m\u001b[0mislice\u001b[0m\u001b[1;33m(\u001b[0m\u001b[0mtable\u001b[0m\u001b[1;33m,\u001b[0m \u001b[1;36m0\u001b[0m\u001b[1;33m,\u001b[0m \u001b[0mlimit\u001b[0m\u001b[1;33m+\u001b[0m\u001b[1;36m2\u001b[0m\u001b[1;33m)\u001b[0m\u001b[1;33m)\u001b[0m\u001b[1;33m\u001b[0m\u001b[1;33m\u001b[0m\u001b[0m\n\u001b[0m\u001b[0;32m    529\u001b[0m         \u001b[1;32mif\u001b[0m \u001b[0mlen\u001b[0m\u001b[1;33m(\u001b[0m\u001b[0mtable\u001b[0m\u001b[1;33m)\u001b[0m \u001b[1;33m>\u001b[0m \u001b[0mlimit\u001b[0m\u001b[1;33m+\u001b[0m\u001b[1;36m1\u001b[0m\u001b[1;33m:\u001b[0m\u001b[1;33m\u001b[0m\u001b[1;33m\u001b[0m\u001b[0m\n\u001b[0;32m    530\u001b[0m             \u001b[0moverflow\u001b[0m \u001b[1;33m=\u001b[0m \u001b[1;32mTrue\u001b[0m\u001b[1;33m\u001b[0m\u001b[1;33m\u001b[0m\u001b[0m\n",
      "\u001b[1;32m~\\anaconda3\\lib\\site-packages\\petl\\io\\csv_py3.py\u001b[0m in \u001b[0;36m__iter__\u001b[1;34m(self)\u001b[0m\n\u001b[0;32m     30\u001b[0m         \u001b[1;32mif\u001b[0m \u001b[0mself\u001b[0m\u001b[1;33m.\u001b[0m\u001b[0mheader\u001b[0m \u001b[1;32mis\u001b[0m \u001b[1;32mnot\u001b[0m \u001b[1;32mNone\u001b[0m\u001b[1;33m:\u001b[0m\u001b[1;33m\u001b[0m\u001b[1;33m\u001b[0m\u001b[0m\n\u001b[0;32m     31\u001b[0m           \u001b[1;32myield\u001b[0m \u001b[0mtuple\u001b[0m\u001b[1;33m(\u001b[0m\u001b[0mself\u001b[0m\u001b[1;33m.\u001b[0m\u001b[0mheader\u001b[0m\u001b[1;33m)\u001b[0m\u001b[1;33m\u001b[0m\u001b[1;33m\u001b[0m\u001b[0m\n\u001b[1;32m---> 32\u001b[1;33m         \u001b[1;32mwith\u001b[0m \u001b[0mself\u001b[0m\u001b[1;33m.\u001b[0m\u001b[0msource\u001b[0m\u001b[1;33m.\u001b[0m\u001b[0mopen\u001b[0m\u001b[1;33m(\u001b[0m\u001b[1;34m'rb'\u001b[0m\u001b[1;33m)\u001b[0m \u001b[1;32mas\u001b[0m \u001b[0mbuf\u001b[0m\u001b[1;33m:\u001b[0m\u001b[1;33m\u001b[0m\u001b[1;33m\u001b[0m\u001b[0m\n\u001b[0m\u001b[0;32m     33\u001b[0m             csvfile = io.TextIOWrapper(buf, encoding=self.encoding,\n\u001b[0;32m     34\u001b[0m                                        errors=self.errors, newline='')\n",
      "\u001b[1;32m~\\anaconda3\\lib\\site-packages\\petl\\io\\sources.py\u001b[0m in \u001b[0;36mopen\u001b[1;34m(self, mode)\u001b[0m\n\u001b[0;32m     31\u001b[0m \u001b[1;33m\u001b[0m\u001b[0m\n\u001b[0;32m     32\u001b[0m     \u001b[1;32mdef\u001b[0m \u001b[0mopen\u001b[0m\u001b[1;33m(\u001b[0m\u001b[0mself\u001b[0m\u001b[1;33m,\u001b[0m \u001b[0mmode\u001b[0m\u001b[1;33m=\u001b[0m\u001b[1;34m'r'\u001b[0m\u001b[1;33m)\u001b[0m\u001b[1;33m:\u001b[0m\u001b[1;33m\u001b[0m\u001b[1;33m\u001b[0m\u001b[0m\n\u001b[1;32m---> 33\u001b[1;33m         \u001b[1;32mreturn\u001b[0m \u001b[0mio\u001b[0m\u001b[1;33m.\u001b[0m\u001b[0mopen\u001b[0m\u001b[1;33m(\u001b[0m\u001b[0mself\u001b[0m\u001b[1;33m.\u001b[0m\u001b[0mfilename\u001b[0m\u001b[1;33m,\u001b[0m \u001b[0mmode\u001b[0m\u001b[1;33m,\u001b[0m \u001b[1;33m**\u001b[0m\u001b[0mself\u001b[0m\u001b[1;33m.\u001b[0m\u001b[0mkwargs\u001b[0m\u001b[1;33m)\u001b[0m\u001b[1;33m\u001b[0m\u001b[1;33m\u001b[0m\u001b[0m\n\u001b[0m\u001b[0;32m     34\u001b[0m \u001b[1;33m\u001b[0m\u001b[0m\n\u001b[0;32m     35\u001b[0m \u001b[1;33m\u001b[0m\u001b[0m\n",
      "\u001b[1;31mFileNotFoundError\u001b[0m: [Errno 2] No such file or directory: 'test.csv'"
     ]
    }
   ],
   "source": [
    "etl.look(data)"
   ]
  },
  {
   "cell_type": "code",
   "execution_count": 10,
   "metadata": {},
   "outputs": [],
   "source": [
    "\n",
    "diet_data = etl.fromcsv('diet_data.csv')"
   ]
  },
  {
   "cell_type": "code",
   "execution_count": 11,
   "metadata": {},
   "outputs": [
    {
     "data": {
      "text/plain": [
       "+-------------+-------+--------+--------+-----------+----------+-------------+-------------+------+-----+------+------+--------+--------+\n",
       "| Date        | Stone | Pounds | Ounces | weight_oz | calories | cals_per_oz | five_donuts | walk | run | wine | prot | weight | change |\n",
       "+=============+=======+========+========+===========+==========+=============+=============+======+=====+======+======+========+========+\n",
       "| '7/30/2018' | '12'  | '2'    | '6'    | '2726'    | '1950'   | '0.72'      | '1'         | '1'  | '0' | '0'  | '0'  | '0'    | '-30'  |\n",
       "+-------------+-------+--------+--------+-----------+----------+-------------+-------------+------+-----+------+------+--------+--------+\n",
       "| '7/31/2018' | '12'  | '0'    | '8'    | '2696'    | '2600'   | '0.96'      | '1'         | '0'  | '0' | '0'  | '0'  | '0'    | '8'    |\n",
       "+-------------+-------+--------+--------+-----------+----------+-------------+-------------+------+-----+------+------+--------+--------+\n",
       "| '8/1/2018'  | '12'  | '1'    | '0'    | '2704'    | '2500'   | '0.92'      | '1'         | '1'  | '0' | '0'  | '0'  | '0'    | '0'    |\n",
       "+-------------+-------+--------+--------+-----------+----------+-------------+-------------+------+-----+------+------+--------+--------+\n",
       "| '8/2/2018'  | '12'  | '1'    | '0'    | '2704'    | '1850'   | '0.68'      | '1'         | '1'  | '0' | '1'  | '0'  | '0'    | '-40'  |\n",
       "+-------------+-------+--------+--------+-----------+----------+-------------+-------------+------+-----+------+------+--------+--------+\n",
       "| '8/3/2018'  | '11'  | '12'   | '8'    | '2664'    | '2900'   | '1.09'      | '1'         | '1'  | '0' | '0'  | '0'  | '0'    | '14'   |\n",
       "+-------------+-------+--------+--------+-----------+----------+-------------+-------------+------+-----+------+------+--------+--------+\n",
       "..."
      ]
     },
     "execution_count": 11,
     "metadata": {},
     "output_type": "execute_result"
    }
   ],
   "source": [
    "etl.look(diet_data)"
   ]
  },
  {
   "cell_type": "code",
   "execution_count": 12,
   "metadata": {},
   "outputs": [],
   "source": [
    "fitness = etl.fromcsv('fitness analysis.csv')"
   ]
  },
  {
   "cell_type": "code",
   "execution_count": 13,
   "metadata": {},
   "outputs": [
    {
     "data": {
      "text/plain": [
       "+-----------------------------------+-------------+--------------+------------+------------------------------------+-----------------------------------------------------+----------------------------+-------------------------------------------------------------------------------------------------------------+------------------------------------------------------------------------------------------------------------------+-------------------------------+-------------------------------------------------+--------------------------------------------+-------------------------------------------------+-----------------------------------------------------------------------------------------------------------------------+---------------------------------------+---------------------------------------------------------------------+----------------------------------------------+-------------------------------------------------------------------------------------------------------------------------+\n",
       "| Timestamp                         | Your name   | Your gender  | Your age   | How important is exercise to you ? | How do you describe your current level of fitness ? | How often do you exercise? | What barriers, if any, prevent you from exercising more regularly?           (Please select all that apply) | What form(s) of exercise do you currently participate in ?                        (Please select all that apply) | Do you exercise ___________ ? | What time if the day do you prefer to exercise? | How long do you spend exercising per day ? | Would you say you eat a healthy balanced diet ? | What prevents you from eating a healthy balanced diet, If any?                         (Please select all that apply) | How healthy do you consider yourself? | Have you ever recommended your friends to follow a fitness routine? | Have you ever purchased a fitness equipment? | What motivates you to exercise?         (Please select all that applies )                                               |\n",
       "+===================================+=============+==============+============+====================================+=====================================================+============================+=============================================================================================================+==================================================================================================================+===============================+=================================================+============================================+=================================================+=======================================================================================================================+=======================================+=====================================================================+==============================================+=========================================================================================================================+\n",
       "| '2019/07/03 11:48:07 PM GMT+5:30' | 'Parkavi'   | 'Female'     | '19 to 25' | '2'                                | 'Good'                                              | 'Never'                    | \"I don't have enough time;I can't stay motivated\"                                                           | \"I don't really exercise\"                                                                                        | \"I don't really exercise\"     | 'Early morning'                                 | \"I don't really exercise\"                  | 'Not always'                                    | 'Ease of access to fast food;Temptation and cravings'                                                                 | '3'                                   | 'Yes'                                                               | 'No'                                         | \"I'm sorry ... I'm not really interested in exercising\"                                                                 |\n",
       "+-----------------------------------+-------------+--------------+------------+------------------------------------+-----------------------------------------------------+----------------------------+-------------------------------------------------------------------------------------------------------------+------------------------------------------------------------------------------------------------------------------+-------------------------------+-------------------------------------------------+--------------------------------------------+-------------------------------------------------+-----------------------------------------------------------------------------------------------------------------------+---------------------------------------+---------------------------------------------------------------------+----------------------------------------------+-------------------------------------------------------------------------------------------------------------------------+\n",
       "| '2019/07/03 11:51:22 PM GMT+5:30' | 'Nithilaa'  | 'Female'     | '19 to 25' | '4'                                | 'Very good'                                         | 'Never'                    | \"I don't have enough time;I'll become too tired\"                                                            | 'Walking or jogging;Swimming'                                                                                    | 'With a group'                | 'Early morning'                                 | \"I don't really exercise\"                  | 'Not always'                                    | 'Ease of access to fast food;Temptation and cravings'                                                                 | '4'                                   | 'Yes'                                                               | 'No'                                         | \"I want to be fit;I want to be flexible;I want to relieve stress;I'm sorry ... I'm not really interested in exercising\" |\n",
       "+-----------------------------------+-------------+--------------+------------+------------------------------------+-----------------------------------------------------+----------------------------+-------------------------------------------------------------------------------------------------------------+------------------------------------------------------------------------------------------------------------------+-------------------------------+-------------------------------------------------+--------------------------------------------+-------------------------------------------------+-----------------------------------------------------------------------------------------------------------------------+---------------------------------------+---------------------------------------------------------------------+----------------------------------------------+-------------------------------------------------------------------------------------------------------------------------+\n",
       "| '2019/07/03 11:56:28 PM GMT+5:30' | 'Karunya v' | 'Female'     | '15 to 18' | '3'                                | 'Good'                                              | '1 to 2 times a week'      | \"I can't stay motivated\"                                                                                    | 'Walking or jogging'                                                                                             | 'Alone'                       | 'Early morning'                                 | '30 minutes'                               | 'Not always'                                    | 'Temptation and cravings'                                                                                             | '4'                                   | 'Yes'                                                               | 'Yes'                                        | 'I want to be fit'                                                                                                      |\n",
       "+-----------------------------------+-------------+--------------+------------+------------------------------------+-----------------------------------------------------+----------------------------+-------------------------------------------------------------------------------------------------------------+------------------------------------------------------------------------------------------------------------------+-------------------------------+-------------------------------------------------+--------------------------------------------+-------------------------------------------------+-----------------------------------------------------------------------------------------------------------------------+---------------------------------------+---------------------------------------------------------------------+----------------------------------------------+-------------------------------------------------------------------------------------------------------------------------+\n",
       "| '2019/07/04 5:43:35 AM GMT+5:30'  | 'Anusha '   | 'Female'     | '15 to 18' | '4'                                | 'Good'                                              | '3 to 4 times a week'      | \"I don't have enough time\"                                                                                  | 'Walking or jogging;Gym;Lifting weights'                                                                         | 'Alone'                       | 'Evening'                                       | '1 hour'                                   | 'Yes'                                           | 'Temptation and cravings'                                                                                             | '4'                                   | 'Yes'                                                               | 'No'                                         | 'I want to be fit;I want to lose weight'                                                                                |\n",
       "+-----------------------------------+-------------+--------------+------------+------------------------------------+-----------------------------------------------------+----------------------------+-------------------------------------------------------------------------------------------------------------+------------------------------------------------------------------------------------------------------------------+-------------------------------+-------------------------------------------------+--------------------------------------------+-------------------------------------------------+-----------------------------------------------------------------------------------------------------------------------+---------------------------------------+---------------------------------------------------------------------+----------------------------------------------+-------------------------------------------------------------------------------------------------------------------------+\n",
       "| '2019/07/04 5:44:29 AM GMT+5:30'  | 'Nikkitha'  | 'Female'     | '19 to 25' | '3'                                | 'Unfit'                                             | 'Never'                    | \"I can't stay motivated\"                                                                                    | \"I don't really exercise\"                                                                                        | \"I don't really exercise\"     | 'Evening'                                       | \"I don't really exercise\"                  | 'Yes'                                           | 'Ease of access to fast food;Temptation and cravings'                                                                 | '4'                                   | 'Yes'                                                               | 'No'                                         | 'I want to be fit'                                                                                                      |\n",
       "+-----------------------------------+-------------+--------------+------------+------------------------------------+-----------------------------------------------------+----------------------------+-------------------------------------------------------------------------------------------------------------+------------------------------------------------------------------------------------------------------------------+-------------------------------+-------------------------------------------------+--------------------------------------------+-------------------------------------------------+-----------------------------------------------------------------------------------------------------------------------+---------------------------------------+---------------------------------------------------------------------+----------------------------------------------+-------------------------------------------------------------------------------------------------------------------------+\n",
       "..."
      ]
     },
     "execution_count": 13,
     "metadata": {},
     "output_type": "execute_result"
    }
   ],
   "source": [
    "etl.look(fitness)"
   ]
  },
  {
   "cell_type": "code",
   "execution_count": 14,
   "metadata": {},
   "outputs": [],
   "source": [
    "dropout = etl.fromcsv('dropout-ratio-2012-2015.csv')"
   ]
  },
  {
   "cell_type": "code",
   "execution_count": 15,
   "metadata": {},
   "outputs": [
    {
     "data": {
      "text/plain": [
       "+------------------+-----------+--------------+---------------+---------------+--------------------+---------------------+---------------------+-----------------+------------------+------------------+------------------+-------------------+-------------------+\n",
       "| State_UT         | year      | Primary_Boys | Primary_Girls | Primary_Total | Upper Primary_Boys | Upper Primary_Girls | Upper Primary_Total | Secondary _Boys | Secondary _Girls | Secondary _Total | HrSecondary_Boys | HrSecondary_Girls | HrSecondary_Total |\n",
       "+==================+===========+==============+===============+===============+====================+=====================+=====================+=================+==================+==================+==================+===================+===================+\n",
       "| 'A & N Islands'  | '2012-13' | '0.83'       | '0.51'        | '0.68'        | 'Uppe_r_Primary'   | '1.09'              | '1.23'              | '5.57'          | '5.55'           | '5.56'           | '17.66'          | '10.15'           | '14.14'           |\n",
       "+------------------+-----------+--------------+---------------+---------------+--------------------+---------------------+---------------------+-----------------+------------------+------------------+------------------+-------------------+-------------------+\n",
       "| 'A & N Islands'  | '2013-14' | '1.35'       | '1.06'        | '1.21'        | 'NR'               | '1.54'              | '0.51'              | '8.36'          | '5.98'           | '7.2'            | '18.94'          | '12.2'            | '15.87'           |\n",
       "+------------------+-----------+--------------+---------------+---------------+--------------------+---------------------+---------------------+-----------------+------------------+------------------+------------------+-------------------+-------------------+\n",
       "| 'A & N Islands'  | '2014-15' | '0.47'       | '0.55'        | '0.51'        | '1.44'             | '1.95'              | '1.69'              | '11.47'         | '8.16'           | '9.87'           | '21.05'          | '12.21'           | '16.93'           |\n",
       "+------------------+-----------+--------------+---------------+---------------+--------------------+---------------------+---------------------+-----------------+------------------+------------------+------------------+-------------------+-------------------+\n",
       "| 'Andhra Pradesh' | '2012-13' | '3.3'        | '3.05'        | '3.18'        | '3.21'             | '3.51'              | '3.36'              | '12.21'         | '13.25'          | '12.72'          | '2.66'           | 'NR'              | '0.35'            |\n",
       "+------------------+-----------+--------------+---------------+---------------+--------------------+---------------------+---------------------+-----------------+------------------+------------------+------------------+-------------------+-------------------+\n",
       "| 'Andhra Pradesh' | '2013-14' | '4.31'       | '4.39'        | '4.35'        | '3.46'             | '4.12'              | '3.78'              | '11.95'         | '13.37'          | '12.65'          | '12.65'          | '10.85'           | '11.79'           |\n",
       "+------------------+-----------+--------------+---------------+---------------+--------------------+---------------------+---------------------+-----------------+------------------+------------------+------------------+-------------------+-------------------+\n",
       "..."
      ]
     },
     "execution_count": 15,
     "metadata": {},
     "output_type": "execute_result"
    }
   ],
   "source": [
    "etl.look(dropout)"
   ]
  },
  {
   "cell_type": "code",
   "execution_count": 16,
   "metadata": {},
   "outputs": [],
   "source": [
    "census = etl.fromcsv('census.csv')"
   ]
  },
  {
   "cell_type": "code",
   "execution_count": 24,
   "metadata": {
    "scrolled": true
   },
   "outputs": [
    {
     "data": {
      "text/plain": [
       "+-----------+-------------+---------------------+---------------+------------+------------+--------------+--------------+--------------+--------------+--------------+--------------+--------------+--------------+--------------+--------------+--------------+--------------+--------------+--------------+--------------+--------------+-----------------+\n",
       "| Type      | Code        | Area                | All Residents | Age 0 to 4 | Age 5 to 9 | Age 10 to 14 | Age 15 to 19 | Age 20 to 24 | Age 25 to 29 | Age 30 to 34 | Age 35 to 39 | Age 40 to 44 | Age 45 to 49 | Age 50 to 54 | Age 55 to 59 | Age 60 to 64 | Age 65 to 69 | Age 70 to 74 | Age 75 to 79 | Age 80 to 84 | Age 85 to 89 | Age 90 and Over |\n",
       "+===========+=============+=====================+===============+============+============+==============+==============+==============+==============+==============+==============+==============+==============+==============+==============+==============+==============+==============+==============+==============+==============+=================+\n",
       "| 'Country' | 'K02000001' | 'United Kingdom'    | '63182175'    | '3913932'  | '3516698'  | '3669311'    | '3996426'    | '4297158'    | '4306308'    | '4125454'    | '4194421'    | '4625637'    | '4643071'    | '4094427'    | '3614087'    | '3807952'    | '3017482'    | '2462751'    | '2006005'    | '1604771'    | '846836'     | '439248'        |\n",
       "+-----------+-------------+---------------------+---------------+------------+------------+--------------+--------------+--------------+--------------+--------------+--------------+--------------+--------------+--------------+--------------+--------------+--------------+--------------+--------------+--------------+--------------+-----------------+\n",
       "| 'Country' | 'K04000001' | 'England and Wales' | '56075912'    | '3496750'  | '3135711'  | '3258677'    | '3539385'    | '3807245'    | '3836609'    | '3683915'    | '3732161'    | '4099089'    | '4100526'    | '3601694'    | '3183915'    | '3377162'    | '2674161'    | '2178672'    | '1777547'    | '1338005'    | '825671'     | '429017'        |\n",
       "+-----------+-------------+---------------------+---------------+------------+------------+--------------+--------------+--------------+--------------+--------------+--------------+--------------+--------------+--------------+--------------+--------------+--------------+--------------+--------------+--------------+--------------+-----------------+\n",
       "| 'Country' | 'E92000001' | 'England'           | '53012456'    | '3318449'  | '2972632'  | '3080929'    | '3340265'    | '3595321'    | '3650881'    | '3509221'    | '3549116'    | '3885934'    | '3879815'    | '3400095'    | '2996992'    | '3172277'    | '2508154'    | '2044129'    | '1669345'    | '1258773'    | '776311'     | '403817'        |\n",
       "+-----------+-------------+---------------------+---------------+------------+------------+--------------+--------------+--------------+--------------+--------------+--------------+--------------+--------------+--------------+--------------+--------------+--------------+--------------+--------------+--------------+--------------+-----------------+\n",
       "| 'Country' | 'W92000004' | 'Wales'             | '3063456'     | '178301'   | '163079'   | '177748'     | '199120'     | '211924'     | '185728'     | '174694'     | '183045'     | '213155'     | '220711'     | '201599'     | '186923'     | '204885'     | '166007'     | '134543'     | '108202'     | '79232'      | '49360'      | '25200'         |\n",
       "+-----------+-------------+---------------------+---------------+------------+------------+--------------+--------------+--------------+--------------+--------------+--------------+--------------+--------------+--------------+--------------+--------------+--------------+--------------+--------------+--------------+--------------+-----------------+\n",
       "| 'Country' | 'N92000002' | 'Northern Ireland'  | '1810863'     | '124382'   | '111287'   | '119034'     | '126241'     | '126013'     | '124099'     | '119839'     | '122260'     | '131848'     | '131645'     | '116933'     | '99272'      | '94290'      | '82121'      | '63479'      | '50358'      | '36366'      | '21165'      | '10231'         |\n",
       "+-----------+-------------+---------------------+---------------+------------+------------+--------------+--------------+--------------+--------------+--------------+--------------+--------------+--------------+--------------+--------------+--------------+--------------+--------------+--------------+--------------+--------------+-----------------+\n",
       "..."
      ]
     },
     "execution_count": 24,
     "metadata": {},
     "output_type": "execute_result"
    }
   ],
   "source": [
    "etl.look(census)"
   ]
  },
  {
   "cell_type": "code",
   "execution_count": 27,
   "metadata": {},
   "outputs": [],
   "source": [
    "data_info = etl.fromcsv('DOR.csv')"
   ]
  },
  {
   "cell_type": "code",
   "execution_count": 28,
   "metadata": {},
   "outputs": [
    {
     "data": {
      "text/plain": [
       "+------------------+-----------+--------------+---------------+---------------+--------------------+---------------------+---------------------+-----------------+------------------+------------------+------------------+-------------------+-------------------+\n",
       "| State_UT         | year      | Primary_Boys | Primary_Girls | Primary_Total | Upper Primary_Boys | Upper Primary_Girls | Upper Primary_Total | Secondary _Boys | Secondary _Girls | Secondary _Total | HrSecondary_Boys | HrSecondary_Girls | HrSecondary_Total |\n",
       "+==================+===========+==============+===============+===============+====================+=====================+=====================+=================+==================+==================+==================+===================+===================+\n",
       "| 'A & N Islands'  | '2012-13' | '0.83'       | '0.51'        | '0.68'        | 'Uppe_r_Primary'   | '1.09'              | '1.23'              | '5.57'          | '5.55'           | '5.56'           | '17.66'          | '10.15'           | '14.14'           |\n",
       "+------------------+-----------+--------------+---------------+---------------+--------------------+---------------------+---------------------+-----------------+------------------+------------------+------------------+-------------------+-------------------+\n",
       "| 'A & N Islands'  | '2013-14' | '1.35'       | '1.06'        | '1.21'        | 'NR'               | '1.54'              | '0.51'              | '8.36'          | '5.98'           | '7.2'            | '18.94'          | '12.2'            | '15.87'           |\n",
       "+------------------+-----------+--------------+---------------+---------------+--------------------+---------------------+---------------------+-----------------+------------------+------------------+------------------+-------------------+-------------------+\n",
       "| 'A & N Islands'  | '2014-15' | '0.47'       | '0.55'        | '0.51'        | '1.44'             | '1.95'              | '1.69'              | '11.47'         | '8.16'           | '9.87'           | '21.05'          | '12.21'           | '16.93'           |\n",
       "+------------------+-----------+--------------+---------------+---------------+--------------------+---------------------+---------------------+-----------------+------------------+------------------+------------------+-------------------+-------------------+\n",
       "| 'Andhra Pradesh' | '2012-13' | '3.3'        | '3.05'        | '3.18'        | '3.21'             | '3.51'              | '3.36'              | '12.21'         | '13.25'          | '12.72'          | '2.66'           | 'NR'              | '0.35'            |\n",
       "+------------------+-----------+--------------+---------------+---------------+--------------------+---------------------+---------------------+-----------------+------------------+------------------+------------------+-------------------+-------------------+\n",
       "| 'Andhra Pradesh' | '2013-14' | '4.31'       | '4.39'        | '4.35'        | '3.46'             | '4.12'              | '3.78'              | '11.95'         | '13.37'          | '12.65'          | '12.65'          | '10.85'           | '11.79'           |\n",
       "+------------------+-----------+--------------+---------------+---------------+--------------------+---------------------+---------------------+-----------------+------------------+------------------+------------------+-------------------+-------------------+\n",
       "..."
      ]
     },
     "execution_count": 28,
     "metadata": {},
     "output_type": "execute_result"
    }
   ],
   "source": [
    "etl.look(data_info)"
   ]
  },
  {
   "cell_type": "code",
   "execution_count": 29,
   "metadata": {},
   "outputs": [],
   "source": [
    "new_data = etl.cat(census, diet_data, data_info)"
   ]
  },
  {
   "cell_type": "code",
   "execution_count": 30,
   "metadata": {},
   "outputs": [
    {
     "data": {
      "text/plain": [
       "+-----------+-------------+---------------------+---------------+------------+------------+--------------+--------------+--------------+--------------+--------------+--------------+--------------+--------------+--------------+--------------+--------------+--------------+--------------+--------------+--------------+--------------+-----------------+------+-------+--------+--------+-----------+----------+-------------+-------------+------+------+------+------+--------+--------+----------+------+--------------+---------------+---------------+--------------------+---------------------+---------------------+-----------------+------------------+------------------+------------------+-------------------+-------------------+\n",
       "| Type      | Code        | Area                | All Residents | Age 0 to 4 | Age 5 to 9 | Age 10 to 14 | Age 15 to 19 | Age 20 to 24 | Age 25 to 29 | Age 30 to 34 | Age 35 to 39 | Age 40 to 44 | Age 45 to 49 | Age 50 to 54 | Age 55 to 59 | Age 60 to 64 | Age 65 to 69 | Age 70 to 74 | Age 75 to 79 | Age 80 to 84 | Age 85 to 89 | Age 90 and Over | Date | Stone | Pounds | Ounces | weight_oz | calories | cals_per_oz | five_donuts | walk | run  | wine | prot | weight | change | State_UT | year | Primary_Boys | Primary_Girls | Primary_Total | Upper Primary_Boys | Upper Primary_Girls | Upper Primary_Total | Secondary _Boys | Secondary _Girls | Secondary _Total | HrSecondary_Boys | HrSecondary_Girls | HrSecondary_Total |\n",
       "+===========+=============+=====================+===============+============+============+==============+==============+==============+==============+==============+==============+==============+==============+==============+==============+==============+==============+==============+==============+==============+==============+=================+======+=======+========+========+===========+==========+=============+=============+======+======+======+======+========+========+==========+======+==============+===============+===============+====================+=====================+=====================+=================+==================+==================+==================+===================+===================+\n",
       "| 'Country' | 'K02000001' | 'United Kingdom'    | '63182175'    | '3913932'  | '3516698'  | '3669311'    | '3996426'    | '4297158'    | '4306308'    | '4125454'    | '4194421'    | '4625637'    | '4643071'    | '4094427'    | '3614087'    | '3807952'    | '3017482'    | '2462751'    | '2006005'    | '1604771'    | '846836'     | '439248'        | None | None  | None   | None   | None      | None     | None        | None        | None | None | None | None | None   | None   | None     | None | None         | None          | None          | None               | None                | None                | None            | None             | None             | None             | None              | None              |\n",
       "+-----------+-------------+---------------------+---------------+------------+------------+--------------+--------------+--------------+--------------+--------------+--------------+--------------+--------------+--------------+--------------+--------------+--------------+--------------+--------------+--------------+--------------+-----------------+------+-------+--------+--------+-----------+----------+-------------+-------------+------+------+------+------+--------+--------+----------+------+--------------+---------------+---------------+--------------------+---------------------+---------------------+-----------------+------------------+------------------+------------------+-------------------+-------------------+\n",
       "| 'Country' | 'K04000001' | 'England and Wales' | '56075912'    | '3496750'  | '3135711'  | '3258677'    | '3539385'    | '3807245'    | '3836609'    | '3683915'    | '3732161'    | '4099089'    | '4100526'    | '3601694'    | '3183915'    | '3377162'    | '2674161'    | '2178672'    | '1777547'    | '1338005'    | '825671'     | '429017'        | None | None  | None   | None   | None      | None     | None        | None        | None | None | None | None | None   | None   | None     | None | None         | None          | None          | None               | None                | None                | None            | None             | None             | None             | None              | None              |\n",
       "+-----------+-------------+---------------------+---------------+------------+------------+--------------+--------------+--------------+--------------+--------------+--------------+--------------+--------------+--------------+--------------+--------------+--------------+--------------+--------------+--------------+--------------+-----------------+------+-------+--------+--------+-----------+----------+-------------+-------------+------+------+------+------+--------+--------+----------+------+--------------+---------------+---------------+--------------------+---------------------+---------------------+-----------------+------------------+------------------+------------------+-------------------+-------------------+\n",
       "| 'Country' | 'E92000001' | 'England'           | '53012456'    | '3318449'  | '2972632'  | '3080929'    | '3340265'    | '3595321'    | '3650881'    | '3509221'    | '3549116'    | '3885934'    | '3879815'    | '3400095'    | '2996992'    | '3172277'    | '2508154'    | '2044129'    | '1669345'    | '1258773'    | '776311'     | '403817'        | None | None  | None   | None   | None      | None     | None        | None        | None | None | None | None | None   | None   | None     | None | None         | None          | None          | None               | None                | None                | None            | None             | None             | None             | None              | None              |\n",
       "+-----------+-------------+---------------------+---------------+------------+------------+--------------+--------------+--------------+--------------+--------------+--------------+--------------+--------------+--------------+--------------+--------------+--------------+--------------+--------------+--------------+--------------+-----------------+------+-------+--------+--------+-----------+----------+-------------+-------------+------+------+------+------+--------+--------+----------+------+--------------+---------------+---------------+--------------------+---------------------+---------------------+-----------------+------------------+------------------+------------------+-------------------+-------------------+\n",
       "| 'Country' | 'W92000004' | 'Wales'             | '3063456'     | '178301'   | '163079'   | '177748'     | '199120'     | '211924'     | '185728'     | '174694'     | '183045'     | '213155'     | '220711'     | '201599'     | '186923'     | '204885'     | '166007'     | '134543'     | '108202'     | '79232'      | '49360'      | '25200'         | None | None  | None   | None   | None      | None     | None        | None        | None | None | None | None | None   | None   | None     | None | None         | None          | None          | None               | None                | None                | None            | None             | None             | None             | None              | None              |\n",
       "+-----------+-------------+---------------------+---------------+------------+------------+--------------+--------------+--------------+--------------+--------------+--------------+--------------+--------------+--------------+--------------+--------------+--------------+--------------+--------------+--------------+--------------+-----------------+------+-------+--------+--------+-----------+----------+-------------+-------------+------+------+------+------+--------+--------+----------+------+--------------+---------------+---------------+--------------------+---------------------+---------------------+-----------------+------------------+------------------+------------------+-------------------+-------------------+\n",
       "| 'Country' | 'N92000002' | 'Northern Ireland'  | '1810863'     | '124382'   | '111287'   | '119034'     | '126241'     | '126013'     | '124099'     | '119839'     | '122260'     | '131848'     | '131645'     | '116933'     | '99272'      | '94290'      | '82121'      | '63479'      | '50358'      | '36366'      | '21165'      | '10231'         | None | None  | None   | None   | None      | None     | None        | None        | None | None | None | None | None   | None   | None     | None | None         | None          | None          | None               | None                | None                | None            | None             | None             | None             | None              | None              |\n",
       "+-----------+-------------+---------------------+---------------+------------+------------+--------------+--------------+--------------+--------------+--------------+--------------+--------------+--------------+--------------+--------------+--------------+--------------+--------------+--------------+--------------+--------------+-----------------+------+-------+--------+--------+-----------+----------+-------------+-------------+------+------+------+------+--------+--------+----------+------+--------------+---------------+---------------+--------------------+---------------------+---------------------+-----------------+------------------+------------------+------------------+-------------------+-------------------+\n",
       "..."
      ]
     },
     "execution_count": 30,
     "metadata": {},
     "output_type": "execute_result"
    }
   ],
   "source": [
    "etl.look(new_data)"
   ]
  },
  {
   "cell_type": "code",
   "execution_count": 37,
   "metadata": {},
   "outputs": [],
   "source": [
    "table1 = etl.cut(new_data, 'Date', 'walk', 'run', 'State_UT', 'Primary_Total', 'Upper Primary_Total', 'Secondary _Total', 'Type', 'Code', 'Area', 'All Residents')"
   ]
  },
  {
   "cell_type": "code",
   "execution_count": 38,
   "metadata": {},
   "outputs": [
    {
     "data": {
      "text/plain": [
       "+------+------+------+----------+---------------+---------------------+------------------+-----------+-------------+---------------------+---------------+\n",
       "| Date | walk | run  | State_UT | Primary_Total | Upper Primary_Total | Secondary _Total | Type      | Code        | Area                | All Residents |\n",
       "+======+======+======+==========+===============+=====================+==================+===========+=============+=====================+===============+\n",
       "| None | None | None | None     | None          | None                | None             | 'Country' | 'K02000001' | 'United Kingdom'    | '63182175'    |\n",
       "+------+------+------+----------+---------------+---------------------+------------------+-----------+-------------+---------------------+---------------+\n",
       "| None | None | None | None     | None          | None                | None             | 'Country' | 'K04000001' | 'England and Wales' | '56075912'    |\n",
       "+------+------+------+----------+---------------+---------------------+------------------+-----------+-------------+---------------------+---------------+\n",
       "| None | None | None | None     | None          | None                | None             | 'Country' | 'E92000001' | 'England'           | '53012456'    |\n",
       "+------+------+------+----------+---------------+---------------------+------------------+-----------+-------------+---------------------+---------------+\n",
       "| None | None | None | None     | None          | None                | None             | 'Country' | 'W92000004' | 'Wales'             | '3063456'     |\n",
       "+------+------+------+----------+---------------+---------------------+------------------+-----------+-------------+---------------------+---------------+\n",
       "| None | None | None | None     | None          | None                | None             | 'Country' | 'N92000002' | 'Northern Ireland'  | '1810863'     |\n",
       "+------+------+------+----------+---------------+---------------------+------------------+-----------+-------------+---------------------+---------------+\n",
       "..."
      ]
     },
     "execution_count": 38,
     "metadata": {},
     "output_type": "execute_result"
    }
   ],
   "source": [
    "etl.look(table1)"
   ]
  },
  {
   "cell_type": "code",
   "execution_count": null,
   "metadata": {},
   "outputs": [],
   "source": []
  }
 ],
 "metadata": {
  "kernelspec": {
   "display_name": "Python 3",
   "language": "python",
   "name": "python3"
  },
  "language_info": {
   "codemirror_mode": {
    "name": "ipython",
    "version": 3
   },
   "file_extension": ".py",
   "mimetype": "text/x-python",
   "name": "python",
   "nbconvert_exporter": "python",
   "pygments_lexer": "ipython3",
   "version": "3.8.5"
  }
 },
 "nbformat": 4,
 "nbformat_minor": 4
}
